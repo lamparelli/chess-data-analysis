{
 "cells": [
  {
   "cell_type": "markdown",
   "metadata": {},
   "source": [
    "# Dataset Analysis: \"60,000+ Chess Game Dataset (Chess.com)\""
   ]
  },
  {
   "cell_type": "markdown",
   "metadata": {},
   "source": [
    "## Author\n",
    "\n",
    "Analysis by Ivan Lamparelli\n",
    "\n",
    "Written in October 2021"
   ]
  },
  {
   "cell_type": "markdown",
   "metadata": {},
   "source": [
    "## Dataset description\n",
    "\n",
    "The dataset gathers information regarding chess games on the [Chess.com](https://www.chess.com/) platform. \n",
    "\n",
    "The dataset has been retrieved from [Kaggle](https://www.kaggle.com/adityajha1504/chesscom-user-games-60000-games). It's composed of a 160MB .csv file, which contains 14 columns and 66.879 rows.\n",
    "\n",
    "Each row is related to a single game, and contains data like:\n",
    "- username and ELO score of both players\n",
    "- which player has won\n",
    "- type of victory/draw (i.e. victory by checkmate or time)\n",
    "- time format\n",
    "- game format\n",
    "- game FEN and PGN"
   ]
  },
  {
   "cell_type": "markdown",
   "metadata": {},
   "source": [
    "## Analysis goals\n",
    "\n",
    "The initial questions I've planned to respond to when starting this analysis are the following:\n",
    "- How is ELO distributed among players?\n",
    "- What are the most common opening moves? \n",
    "- How do openings change at different ELO ranges?\n",
    "- How many turns is an average game?\n",
    "- How does the time format influence the number of turns and the piece advantage between players?\n",
    "- Do high ELO players end the game with a lower or higher piece advantage on average?\n",
    "- What are the most common result types overall (i.e. win by checkmate, win by timeout, draw by stalemate, etc)? Are these influenced by ELO and time format?\n",
    "\n",
    "Further questions may emerge during the analysis depending on what I discover."
   ]
  },
  {
   "cell_type": "markdown",
   "metadata": {},
   "source": [
    "## Project setup"
   ]
  },
  {
   "cell_type": "markdown",
   "metadata": {},
   "source": [
    "### Github Repository\n",
    "\n",
    "The project has been tracked with Git and is hosted on GitHub. The repository can be explored on [my project's GitHub page](https://github.com/lamparelli/chess-data-analysis)."
   ]
  },
  {
   "cell_type": "markdown",
   "metadata": {},
   "source": [
    "### Project libraries"
   ]
  },
  {
   "cell_type": "code",
   "execution_count": 123,
   "metadata": {},
   "outputs": [],
   "source": [
    "import pandas as pd\n",
    "import seaborn as sns\n",
    "import matplotlib as pltlib\n",
    "import matplotlib.pyplot as plt\n",
    "import os"
   ]
  },
  {
   "cell_type": "markdown",
   "metadata": {},
   "source": [
    "### Dataset import"
   ]
  },
  {
   "cell_type": "code",
   "execution_count": 124,
   "metadata": {},
   "outputs": [],
   "source": [
    "# I've used the OS path separator to ensure the code would work both on Windows and Unix environments\n",
    "games = pd.read_csv(\"data\" + os.path.sep + \"club_games_data.csv\")"
   ]
  },
  {
   "cell_type": "markdown",
   "metadata": {},
   "source": [
    "## Data exploration"
   ]
  },
  {
   "cell_type": "markdown",
   "metadata": {},
   "source": [
    "To begin the analysis, we'll perform a basic exploration of the data types and missing values.\n",
    "\n",
    "After the manipulation phase, we'll perform further exploration and visualization of the data."
   ]
  },
  {
   "cell_type": "markdown",
   "metadata": {},
   "source": [
    "### Dataset structure"
   ]
  },
  {
   "cell_type": "code",
   "execution_count": 125,
   "metadata": {},
   "outputs": [
    {
     "name": "stdout",
     "output_type": "stream",
     "text": [
      "Dataset columns:\n",
      "['white_username', 'black_username', 'white_id', 'black_id', 'white_rating', 'black_rating', 'white_result', 'black_result', 'time_class', 'time_control', 'rules', 'rated', 'fen', 'pgn']\n",
      "Number of columns:  14\n",
      "Number of rows:  66879\n"
     ]
    }
   ],
   "source": [
    "print(\"Dataset columns:\")\n",
    "print(list(games.columns))\n",
    "print(\"Number of columns: \", games.columns.size)\n",
    "print(\"Number of rows: \", len(games))"
   ]
  },
  {
   "cell_type": "markdown",
   "metadata": {},
   "source": [
    "### Sample data"
   ]
  },
  {
   "cell_type": "code",
   "execution_count": 126,
   "metadata": {},
   "outputs": [
    {
     "data": {
      "text/html": [
       "<div>\n",
       "<style scoped>\n",
       "    .dataframe tbody tr th:only-of-type {\n",
       "        vertical-align: middle;\n",
       "    }\n",
       "\n",
       "    .dataframe tbody tr th {\n",
       "        vertical-align: top;\n",
       "    }\n",
       "\n",
       "    .dataframe thead th {\n",
       "        text-align: right;\n",
       "    }\n",
       "</style>\n",
       "<table border=\"1\" class=\"dataframe\">\n",
       "  <thead>\n",
       "    <tr style=\"text-align: right;\">\n",
       "      <th></th>\n",
       "      <th>white_username</th>\n",
       "      <th>black_username</th>\n",
       "      <th>white_id</th>\n",
       "      <th>black_id</th>\n",
       "      <th>white_rating</th>\n",
       "      <th>black_rating</th>\n",
       "      <th>white_result</th>\n",
       "      <th>black_result</th>\n",
       "      <th>time_class</th>\n",
       "      <th>time_control</th>\n",
       "      <th>rules</th>\n",
       "      <th>rated</th>\n",
       "      <th>fen</th>\n",
       "      <th>pgn</th>\n",
       "    </tr>\n",
       "  </thead>\n",
       "  <tbody>\n",
       "    <tr>\n",
       "      <th>0</th>\n",
       "      <td>-Amos-</td>\n",
       "      <td>miniman2804</td>\n",
       "      <td>https://api.chess.com/pub/player/-amos-</td>\n",
       "      <td>https://api.chess.com/pub/player/miniman2804</td>\n",
       "      <td>1708</td>\n",
       "      <td>1608</td>\n",
       "      <td>win</td>\n",
       "      <td>checkmated</td>\n",
       "      <td>daily</td>\n",
       "      <td>1/259200</td>\n",
       "      <td>chess</td>\n",
       "      <td>True</td>\n",
       "      <td>r2r4/p2p1p1p/b6R/n1p1kp2/2P2P2/3BP3/PP5P/4K2R ...</td>\n",
       "      <td>[Event \"Enjoyable games 2 - Round 1\"]\\n[Site \"...</td>\n",
       "    </tr>\n",
       "    <tr>\n",
       "      <th>1</th>\n",
       "      <td>-Amos-</td>\n",
       "      <td>koltcho69</td>\n",
       "      <td>https://api.chess.com/pub/player/-amos-</td>\n",
       "      <td>https://api.chess.com/pub/player/koltcho69</td>\n",
       "      <td>1726</td>\n",
       "      <td>1577</td>\n",
       "      <td>win</td>\n",
       "      <td>resigned</td>\n",
       "      <td>daily</td>\n",
       "      <td>1/172800</td>\n",
       "      <td>chess</td>\n",
       "      <td>True</td>\n",
       "      <td>8/5Q1k/4n1pp/8/7P/2N2b2/PP3P2/5K2 b - - 1 33</td>\n",
       "      <td>[Event \"Rapid Rats - Board 5\"]\\n[Site \"Chess.c...</td>\n",
       "    </tr>\n",
       "    <tr>\n",
       "      <th>2</th>\n",
       "      <td>-Amos-</td>\n",
       "      <td>enhmandah</td>\n",
       "      <td>https://api.chess.com/pub/player/-amos-</td>\n",
       "      <td>https://api.chess.com/pub/player/enhmandah</td>\n",
       "      <td>1727</td>\n",
       "      <td>842</td>\n",
       "      <td>win</td>\n",
       "      <td>resigned</td>\n",
       "      <td>daily</td>\n",
       "      <td>1/172800</td>\n",
       "      <td>chess</td>\n",
       "      <td>True</td>\n",
       "      <td>rn1q1b1r/kb2p1pp/2p5/p1Q5/N1BP2n1/4PN2/1P3PPP/...</td>\n",
       "      <td>[Event \"CHESS BOARD CLASH - Round 1\"]\\n[Site \"...</td>\n",
       "    </tr>\n",
       "    <tr>\n",
       "      <th>3</th>\n",
       "      <td>enhmandah</td>\n",
       "      <td>-Amos-</td>\n",
       "      <td>https://api.chess.com/pub/player/enhmandah</td>\n",
       "      <td>https://api.chess.com/pub/player/-amos-</td>\n",
       "      <td>819</td>\n",
       "      <td>1727</td>\n",
       "      <td>checkmated</td>\n",
       "      <td>win</td>\n",
       "      <td>daily</td>\n",
       "      <td>1/172800</td>\n",
       "      <td>chess</td>\n",
       "      <td>True</td>\n",
       "      <td>r3kb1r/pp3ppp/3p1n2/2pKp3/P3P3/1P6/4qP1P/QNB5 ...</td>\n",
       "      <td>[Event \"CHESS BOARD CLASH - Round 1\"]\\n[Site \"...</td>\n",
       "    </tr>\n",
       "    <tr>\n",
       "      <th>4</th>\n",
       "      <td>-Amos-</td>\n",
       "      <td>Shalllow-Blue</td>\n",
       "      <td>https://api.chess.com/pub/player/-amos-</td>\n",
       "      <td>https://api.chess.com/pub/player/shalllow-blue</td>\n",
       "      <td>1729</td>\n",
       "      <td>1116</td>\n",
       "      <td>win</td>\n",
       "      <td>resigned</td>\n",
       "      <td>daily</td>\n",
       "      <td>1/172800</td>\n",
       "      <td>chess</td>\n",
       "      <td>True</td>\n",
       "      <td>r3b2r/pp6/2pPpR1k/4n3/2P3Q1/3B4/PP4PP/R5K1 b -...</td>\n",
       "      <td>[Event \"CHESS BOARD CLASH - Round 1\"]\\n[Site \"...</td>\n",
       "    </tr>\n",
       "  </tbody>\n",
       "</table>\n",
       "</div>"
      ],
      "text/plain": [
       "  white_username black_username                                    white_id  \\\n",
       "0         -Amos-    miniman2804     https://api.chess.com/pub/player/-amos-   \n",
       "1         -Amos-      koltcho69     https://api.chess.com/pub/player/-amos-   \n",
       "2         -Amos-      enhmandah     https://api.chess.com/pub/player/-amos-   \n",
       "3      enhmandah         -Amos-  https://api.chess.com/pub/player/enhmandah   \n",
       "4         -Amos-  Shalllow-Blue     https://api.chess.com/pub/player/-amos-   \n",
       "\n",
       "                                         black_id  white_rating  black_rating  \\\n",
       "0    https://api.chess.com/pub/player/miniman2804          1708          1608   \n",
       "1      https://api.chess.com/pub/player/koltcho69          1726          1577   \n",
       "2      https://api.chess.com/pub/player/enhmandah          1727           842   \n",
       "3         https://api.chess.com/pub/player/-amos-           819          1727   \n",
       "4  https://api.chess.com/pub/player/shalllow-blue          1729          1116   \n",
       "\n",
       "  white_result black_result time_class time_control  rules  rated  \\\n",
       "0          win   checkmated      daily     1/259200  chess   True   \n",
       "1          win     resigned      daily     1/172800  chess   True   \n",
       "2          win     resigned      daily     1/172800  chess   True   \n",
       "3   checkmated          win      daily     1/172800  chess   True   \n",
       "4          win     resigned      daily     1/172800  chess   True   \n",
       "\n",
       "                                                 fen  \\\n",
       "0  r2r4/p2p1p1p/b6R/n1p1kp2/2P2P2/3BP3/PP5P/4K2R ...   \n",
       "1       8/5Q1k/4n1pp/8/7P/2N2b2/PP3P2/5K2 b - - 1 33   \n",
       "2  rn1q1b1r/kb2p1pp/2p5/p1Q5/N1BP2n1/4PN2/1P3PPP/...   \n",
       "3  r3kb1r/pp3ppp/3p1n2/2pKp3/P3P3/1P6/4qP1P/QNB5 ...   \n",
       "4  r3b2r/pp6/2pPpR1k/4n3/2P3Q1/3B4/PP4PP/R5K1 b -...   \n",
       "\n",
       "                                                 pgn  \n",
       "0  [Event \"Enjoyable games 2 - Round 1\"]\\n[Site \"...  \n",
       "1  [Event \"Rapid Rats - Board 5\"]\\n[Site \"Chess.c...  \n",
       "2  [Event \"CHESS BOARD CLASH - Round 1\"]\\n[Site \"...  \n",
       "3  [Event \"CHESS BOARD CLASH - Round 1\"]\\n[Site \"...  \n",
       "4  [Event \"CHESS BOARD CLASH - Round 1\"]\\n[Site \"...  "
      ]
     },
     "execution_count": 126,
     "metadata": {},
     "output_type": "execute_result"
    }
   ],
   "source": [
    "# To see all the table columns, execute the code or read the html version of the document; The pdf version will truncate the table \n",
    "games.head()"
   ]
  },
  {
   "cell_type": "markdown",
   "metadata": {},
   "source": [
    "The nature of the content in most columns is pretty clear:\n",
    "- white_username and black_username: players usernames\n",
    "- white_id and black_id: players unique IDs\n",
    "- white_rating and black_rating: players ELO scores\n",
    "- white_result and black_result: contain information regarding the game result\n",
    "- time_class: game time category\n",
    "- rated: whether a game is rated or not\n",
    "- FEN: FEN notation of the game (indicates the last position of the game)\n",
    "\n",
    "Three columns require further exploration:\n",
    "- time_control: How is the data written? I.E. what does `1/172800` mean?\n",
    "- rules: Each row in the sample data contains \"chess\" for this column. What does \"chess\" mean in this context?\n",
    "- PGN: Why doesn't the sample data show PGN notations?"
   ]
  },
  {
   "cell_type": "markdown",
   "metadata": {},
   "source": [
    "### Data format of the time_control column"
   ]
  },
  {
   "cell_type": "code",
   "execution_count": 127,
   "metadata": {},
   "outputs": [
    {
     "name": "stdout",
     "output_type": "stream",
     "text": [
      "['1/259200', '1/172800', '1800', '1/86400', '1/432000', '1/604800', '600', '120+1', '900+10', '300', '180+2', '3600+5', '2700+45', '3600', '1/1209600', '180', '600+10', '60', '480+3', '300+5', '420+3', '600+5', '600+2', '1200', '30', '60+1', '120', '1500+3', '900+2', '1500+5', '1500+10', '1/864000', '900', '300+2', '1500', '7200', '300+1', '5400', '3600+60', '2700+30', '3480+45', '10', '2700+10', '15', '2700', '3600+20', '4500', '4200', '900+5', '1800+10', '2700+5', '480+5', '1800+30', '300+3', '600+1', '1800+5', '420+5', '5400+30', '240+10', '420', '303', '60+10']\n"
     ]
    }
   ],
   "source": [
    "# Possible values for the time_control column\n",
    "print(list(games[\"time_control\"].unique()))"
   ]
  },
  {
   "cell_type": "markdown",
   "metadata": {},
   "source": [
    "There are 3 types of data in the time_control column:\n",
    "- strings with 1/a_number\n",
    "- strings with a number\n",
    "- strings with a number + another_number\n",
    "\n",
    "By having domain knowledge, a plausible hypotesis is that:\n",
    "- strings with a fraction represent games with a daily per-move timer\n",
    "- strings without a fraction represent games with a total per-game timer (with those with a \"+\" having a Fischer bonus increment after each move)\n",
    "\n",
    "Let's check this hypotesis"
   ]
  },
  {
   "cell_type": "code",
   "execution_count": 128,
   "metadata": {},
   "outputs": [
    {
     "name": "stdout",
     "output_type": "stream",
     "text": [
      "Types of games with a time_control value with a fraction:  ['daily']\n",
      "Types of games with a time_control value without a fraction:  ['rapid', 'bullet', 'blitz']\n"
     ]
    }
   ],
   "source": [
    "print(\"Types of games with a time_control value with a fraction: \", list(games[games[\"time_control\"].str.contains(\"/\")][\"time_class\"].unique()))\n",
    "print(\"Types of games with a time_control value without a fraction: \", list(games[~games[\"time_control\"].str.contains(\"/\")][\"time_class\"].unique()))"
   ]
  },
  {
   "cell_type": "markdown",
   "metadata": {},
   "source": [
    "As we guessed, the slash represents games with a daily time format. The other types of time_control data represent per-game timers. "
   ]
  },
  {
   "cell_type": "markdown",
   "metadata": {},
   "source": [
    "### Data format of the rules column"
   ]
  },
  {
   "cell_type": "code",
   "execution_count": 129,
   "metadata": {},
   "outputs": [
    {
     "name": "stdout",
     "output_type": "stream",
     "text": [
      "['chess' 'chess960' 'threecheck' 'crazyhouse' 'kingofthehill']\n"
     ]
    }
   ],
   "source": [
    "# Possible values for the rules column\n",
    "print(games[\"rules\"].unique())"
   ]
  },
  {
   "cell_type": "markdown",
   "metadata": {},
   "source": [
    "The rules column indicates whether the game followed traditional chess rules or chess variants"
   ]
  },
  {
   "cell_type": "markdown",
   "metadata": {},
   "source": [
    "### Data format of the PGN column"
   ]
  },
  {
   "cell_type": "code",
   "execution_count": 130,
   "metadata": {},
   "outputs": [
    {
     "name": "stdout",
     "output_type": "stream",
     "text": [
      "[Event \"Enjoyable games 2 - Round 1\"]\n",
      "[Site \"Chess.com\"]\n",
      "[Date \"2013.01.30\"]\n",
      "[Round \"-\"]\n",
      "[White \"-Amos-\"]\n",
      "[Black \"miniman2804\"]\n",
      "[Result \"1-0\"]\n",
      "[Tournament \"https://www.chess.com/tournament/enjoyable-games-2\"]\n",
      "[CurrentPosition \"r2r4/p2p1p1p/b6R/n1p1kp2/2P2P2/3BP3/PP5P/4K2R b K f3 1 22\"]\n",
      "[Timezone \"UTC\"]\n",
      "[ECO \"E22\"]\n",
      "[ECOUrl \"https://www.chess.com/openings/Nimzo-Indian-Defense-Spielmann-Variation\"]\n",
      "[UTCDate \"2013.01.30\"]\n",
      "[UTCTime \"16:35:14\"]\n",
      "[WhiteElo \"1708\"]\n",
      "[BlackElo \"1608\"]\n",
      "[TimeControl \"1/259200\"]\n",
      "[Termination \"-Amos- won by checkmate\"]\n",
      "[StartTime \"16:35:14\"]\n",
      "[EndDate \"2013.02.01\"]\n",
      "[EndTime \"18:14:48\"]\n",
      "[Link \"https://www.chess.com/game/daily/64629816\"]\n",
      "\n",
      "1. d4 Nf6 2. c4 e6 3. Nc3 Bb4 4. Qb3 Bxc3+ 5. Qxc3 O-O 6. Bg5 c5 7. dxc5 Nc6 8. Nf3 Qa5 9. Bxf6 gxf6 10. Qxa5 Nxa5 11. e3 Rd8 12. Rd1 Kg7 13. Be2 b6 14. Rd4 bxc5 15. Rg4+ Kh6 16. Bd3 f5 17. Rh4+ Kg6 18. g4 Ba6 19. gxf5+ exf5 20. Ne5+ Kf6 21. Rh6+ Kxe5 22. f4# 1-0\n",
      "\n"
     ]
    }
   ],
   "source": [
    "# Sample data in the PGN column\n",
    "print(games.loc[0, \"pgn\"])"
   ]
  },
  {
   "cell_type": "markdown",
   "metadata": {},
   "source": [
    "The PGN column contains nested data. During the data manipulation phase, we'll extract these data."
   ]
  },
  {
   "cell_type": "markdown",
   "metadata": {},
   "source": [
    "### Missing values"
   ]
  },
  {
   "cell_type": "markdown",
   "metadata": {},
   "source": [
    "#### Number of NA values"
   ]
  },
  {
   "cell_type": "markdown",
   "metadata": {},
   "source": [
    "We can check the number of NA values per column by using `isna().sum()`.\n",
    "\n",
    "Then we can count the total number of NA values in the dataset by summing the NA values in each group."
   ]
  },
  {
   "cell_type": "code",
   "execution_count": 131,
   "metadata": {},
   "outputs": [
    {
     "name": "stdout",
     "output_type": "stream",
     "text": [
      "NA values:  0\n"
     ]
    }
   ],
   "source": [
    "print(\"NA values: \", games.isna().sum().sum())"
   ]
  },
  {
   "cell_type": "markdown",
   "metadata": {},
   "source": [
    "There are no NA values in the dataset."
   ]
  },
  {
   "cell_type": "markdown",
   "metadata": {},
   "source": [
    "#### Number of empty strings"
   ]
  },
  {
   "cell_type": "markdown",
   "metadata": {},
   "source": [
    "To check for missing values expressed as empty strings, first we must manipulate the dataset by trimmming initial and ending spaces in string values.\n",
    "\n",
    "We can achieve this by the `strip()` function to each column that contains strings."
   ]
  },
  {
   "cell_type": "code",
   "execution_count": 132,
   "metadata": {},
   "outputs": [],
   "source": [
    "games = games.applymap(lambda colData: colData.strip() if isinstance(colData, str) else colData)"
   ]
  },
  {
   "cell_type": "markdown",
   "metadata": {},
   "source": [
    "We can then transform empty strings into NA values."
   ]
  },
  {
   "cell_type": "code",
   "execution_count": 133,
   "metadata": {},
   "outputs": [],
   "source": [
    "games = games.replace(\"\", pd.NA)"
   ]
  },
  {
   "cell_type": "markdown",
   "metadata": {},
   "source": [
    "Now we check again for NA values."
   ]
  },
  {
   "cell_type": "code",
   "execution_count": 134,
   "metadata": {},
   "outputs": [
    {
     "name": "stdout",
     "output_type": "stream",
     "text": [
      "Empty strings:  0\n"
     ]
    }
   ],
   "source": [
    "print(\"Empty strings: \", games.isna().sum().sum())"
   ]
  },
  {
   "cell_type": "markdown",
   "metadata": {},
   "source": [
    "There are no empty strings in the dataset."
   ]
  },
  {
   "cell_type": "markdown",
   "metadata": {},
   "source": [
    "## Data manipulation\n",
    "\n",
    "After an initial exploration of the data structure, I've set an initial list of manipulations I want to perform on the raw data to prepare for the analysis:\n",
    "- Determine if we can drop the player id columns\n",
    "- Extract the minutes information from the time_control column\n",
    "- Extract the winning player and game result type from the white_result and black_result columns\n",
    "- Extract piece advantage, point advantage, number of turns at end of game from the FEN column\n",
    "- Extract game date and opening info from the PGN column"
   ]
  },
  {
   "cell_type": "markdown",
   "metadata": {},
   "source": [
    "### Players manipulation"
   ]
  },
  {
   "cell_type": "markdown",
   "metadata": {},
   "source": [
    "#### Checking username uniqueness\n",
    "\n",
    "We want to determine whether we can remove the white_id and black_id columns. In order to do so, we must check whether there are players with different IDs that have the same username.\n",
    "\n",
    "A single player (identified by id) could be present both in the white_id and black_id columns, if he has played sometimes as black and other times as white. So, the first step is identifying the unique players by id, then we can check for duplicate usernames."
   ]
  },
  {
   "cell_type": "code",
   "execution_count": 135,
   "metadata": {},
   "outputs": [
    {
     "name": "stdout",
     "output_type": "stream",
     "text": [
      "Duplicated usernames:  0\n"
     ]
    }
   ],
   "source": [
    "# Extracts id and username of every white/black player\n",
    "whitePlayers = games[[\"white_id\", \"white_username\"]]\n",
    "blackPlayers = games[[\"black_id\", \"black_username\"]]\n",
    "\n",
    "# Renames the columns with equal names in order to join them\n",
    "whitePlayers = whitePlayers.rename(columns={\"white_id\": \"id\", \"white_username\": \"username\"})\n",
    "blackPlayers = blackPlayers.rename(columns={\"black_id\": \"id\", \"black_username\": \"username\"})\n",
    "\n",
    "# Joins the id and username of every player in a single dataframe (to then identify unique players)\n",
    "players = pd.concat([whitePlayers, blackPlayers])\n",
    "\n",
    "# Identifies unique players\n",
    "players.drop_duplicates(subset=[\"id\"], inplace=True)\n",
    "\n",
    "# Prints the number of duplicated usernames\n",
    "numOfPlayerByUsername = players[\"username\"].value_counts()\n",
    "print(\"Duplicated usernames: \", numOfPlayerByUsername[numOfPlayerByUsername > 1].size)"
   ]
  },
  {
   "cell_type": "markdown",
   "metadata": {},
   "source": [
    "#### Removing redundant data\n",
    "\n",
    "After having determined that usernames are valid unique identifiers, we can drop the winner_id and loser_id columns."
   ]
  },
  {
   "cell_type": "code",
   "execution_count": 136,
   "metadata": {},
   "outputs": [
    {
     "name": "stdout",
     "output_type": "stream",
     "text": [
      "['white_username', 'black_username', 'white_rating', 'black_rating', 'white_result', 'black_result', 'time_class', 'time_control', 'rules', 'rated', 'fen', 'pgn']\n"
     ]
    }
   ],
   "source": [
    "games.drop(columns=[\"white_id\", \"black_id\"], inplace=True)\n",
    "print(list(games.columns))"
   ]
  },
  {
   "cell_type": "markdown",
   "metadata": {},
   "source": [
    "### Time_control manipulation\n",
    "\n",
    "We want to transform the qualitative information on time format into quantitative information, by reading the number of minutes available in a game to think.\n",
    "\n",
    "Ideally, we need to divide this information in two groups (per_move_time per_game_time), since analyzing these two different categories as a single unit could be misleading.\n",
    "\n",
    "So, we'll add two new columns:\n",
    "- time_type (per_move / per_game)\n",
    "- timer_minutes"
   ]
  },
  {
   "cell_type": "code",
   "execution_count": 137,
   "metadata": {},
   "outputs": [
    {
     "data": {
      "text/plain": [
       "0        4320\n",
       "1        2880\n",
       "2        2880\n",
       "3        2880\n",
       "4        2880\n",
       "         ... \n",
       "66874       5\n",
       "66875       5\n",
       "66876       5\n",
       "66877       5\n",
       "66878       5\n",
       "Name: timer_minutes, Length: 66879, dtype: int64"
      ]
     },
     "execution_count": 137,
     "metadata": {},
     "output_type": "execute_result"
    }
   ],
   "source": [
    "# Daily games\n",
    "perMoveTimer = \"per_move\"\n",
    "\n",
    "# All other types of games\n",
    "perGameTimer = \"per_game\"\n",
    "\n",
    "# Extract timer type\n",
    "games[\"time_type\"] = games[\"time_class\"].apply(lambda time: perMoveTimer if time == \"daily\" else perGameTimer)\n",
    "\n",
    "# Extract timer minutes\n",
    "def getTimerMinutes(game):\n",
    "    seconds = pd.NA\n",
    "    if (game[\"time_type\"] == perGameTimer):\n",
    "        seconds = int(game[\"time_control\"].split(\"+\")[0])\n",
    "    elif (game[\"time_type\"] == perMoveTimer):\n",
    "        seconds = int(game[\"time_control\"].split(\"/\")[1])\n",
    "    else:\n",
    "        return pd.NA\n",
    "    return int(seconds / 60) \n",
    "\n",
    "games[\"timer_minutes\"] = games.apply(lambda game: getTimerMinutes(game), axis=1)\n",
    "games[\"timer_minutes\"]\n"
   ]
  },
  {
   "cell_type": "markdown",
   "metadata": {},
   "source": [
    "### Game results manipulation\n",
    "\n",
    "Currently, the types of game result are divided between two columns (white_result and black_result):\n",
    "- for drawn games: both white_result and black_result contain the type of draw\n",
    "- for won games: if white won, white_result contains the word `win` and black_result contains the type of victory; viceversa if black won\n",
    "\n",
    "This structure is unfit for exploring the different game result types. We'll proceed to extract two new columns:\n",
    "- winner: white, black, neither (in case of draw)\n",
    "- result type: the win/draw cause (i.e. victory by checkmate, victory by timeout, draw by stalemate, etc.)"
   ]
  },
  {
   "cell_type": "markdown",
   "metadata": {},
   "source": [
    "#### Extracting winning player"
   ]
  },
  {
   "cell_type": "code",
   "execution_count": 138,
   "metadata": {},
   "outputs": [
    {
     "name": "stdout",
     "output_type": "stream",
     "text": [
      "Sample mapping of the winner column:\n",
      "  white_result black_result winner\n",
      "0          win   checkmated  white\n",
      "1          win     resigned  white\n",
      "2          win     resigned  white\n",
      "3   checkmated          win  black\n",
      "4          win     resigned  white\n"
     ]
    }
   ],
   "source": [
    "# Defined constants to avoid using hardwired strings in code\n",
    "winnerInCaseOfDraw = \"neither\"\n",
    "winResult = \"win\"\n",
    "whitePlayer = \"white\"\n",
    "blackPlayer = \"black\"\n",
    "\n",
    "# Sets a unique column with the information on who won\n",
    "games[\"winner\"] = winnerInCaseOfDraw\n",
    "games.loc[games[\"white_result\"] == winResult, \"winner\"] = whitePlayer\n",
    "games.loc[games[\"black_result\"] == winResult, \"winner\"] = blackPlayer\n",
    "\n",
    "print(\"Sample mapping of the winner column:\")\n",
    "print(games[[\"white_result\", \"black_result\", \"winner\"]].head())"
   ]
  },
  {
   "cell_type": "markdown",
   "metadata": {},
   "source": [
    "#### Extracting game result type"
   ]
  },
  {
   "cell_type": "code",
   "execution_count": 139,
   "metadata": {},
   "outputs": [
    {
     "name": "stdout",
     "output_type": "stream",
     "text": [
      "Sample mapping of the new columns:\n",
      "  white_result black_result winner result_type\n",
      "0          win   checkmated  white  checkmated\n",
      "1          win     resigned  white    resigned\n",
      "2          win     resigned  white    resigned\n",
      "3   checkmated          win  black  checkmated\n",
      "4          win     resigned  white    resigned\n"
     ]
    }
   ],
   "source": [
    "# Defines how to read the result type from each game\n",
    "def getResultType(game):\n",
    "    return game[\"black_result\"] if game[\"winner\"] == whitePlayer else game[\"white_result\"]\n",
    "\n",
    "# Sets the result type in a new column\n",
    "games[\"result_type\"] = games.apply(lambda game: getResultType(game), axis=1)\n",
    "\n",
    "print(\"Sample mapping of the new columns:\")\n",
    "print(games[[\"white_result\", \"black_result\", \"winner\", \"result_type\"]].head())"
   ]
  },
  {
   "cell_type": "markdown",
   "metadata": {},
   "source": [
    "#### Dropping old columns"
   ]
  },
  {
   "cell_type": "code",
   "execution_count": 140,
   "metadata": {},
   "outputs": [
    {
     "name": "stdout",
     "output_type": "stream",
     "text": [
      "Columns:  ['white_username', 'black_username', 'white_rating', 'black_rating', 'time_class', 'time_control', 'rules', 'rated', 'fen', 'pgn', 'time_type', 'timer_minutes', 'winner', 'result_type']\n"
     ]
    }
   ],
   "source": [
    "games.drop(columns=[\"white_result\", \"black_result\"], inplace=True)\n",
    "print(\"Columns: \", list(games.columns))"
   ]
  },
  {
   "cell_type": "markdown",
   "metadata": {},
   "source": [
    "### FEN data manipulation\n",
    "\n",
    "#### Hints about FEN notation\n",
    "\n",
    "A FEN string contains 6 pieces information (separated by spaces) regarding a particular state of the board, in the format:\n",
    "\n",
    "`board_setup next_player castling_options en_passant_options number_of_moves_since_last_capture number_of_turns`\n",
    "\n",
    "Example: \n",
    "\n",
    "`r2qk2r/1pp2ppp/p3pn2/1b6/2NP4/8/PP1BQPPP/R4RK1 b kq - 1 15`\n",
    "\n",
    "The main interest of the analysis regarding this data is in the piece and points advantage (readable from the board setup) and the number of turns. We'll proceed to extract these pieces of information first. \n",
    "\n",
    "#### Hints about board setup in FEN notation\n",
    "\n",
    "The board setup is represented as a series of information on the board rows:\n",
    "- each row is separated by a slash\n",
    "- each row is represented as a series of letters and numbers (a letter is a piece, a number is a set of adiacent empty spaces)\n",
    "- K is King, Q is Queen, R is rook, N is knight, B is bishop, P is pawn\n",
    "- white pieces are in uppercase, black pieces are in lowercase\n",
    "\n",
    "Example:\n",
    "\n",
    "`r2qk2r/1pp2ppp/p3pn2/1b6/2NP4/8/PP1BQPPP/R4RK1`\n",
    "\n",
    "#### Hints about piece and points advantage\n",
    "\n",
    "Each player start with 16 pieces. Each piece has a different score, which is used to evaluate which player has an advantage in material:\n",
    "- king: no score (since it can't be captured, it can only be checkmated)\n",
    "- queen: 9 points\n",
    "- rook: 5 points\n",
    "- bishop: 3 points\n",
    "- knight: 3 points\n",
    "- pawn: 1 point\n",
    "\n",
    "Sometimes the two players have the same total score in terms of points, but one of them has a higher number of pieces (pieces with a smaller score). This can mean occupying more phisical squares on the board, which, according to chess litetature, can be an important factor during the endgame (the ending phase of the game).\n",
    "\n",
    "Part of the analysis goals is understanding how differences in terms of available pieces and point advantage reflect on winrates."
   ]
  },
  {
   "cell_type": "markdown",
   "metadata": {},
   "source": [
    "#### How to extract info from FEN notation\n",
    "\n",
    "Each piece of information is separated by a space. We could simply extract different pieces by using the `split()` function, like this:"
   ]
  },
  {
   "cell_type": "code",
   "execution_count": 141,
   "metadata": {},
   "outputs": [
    {
     "data": {
      "text/plain": [
       "['r2qk2r/1pp2ppp/p3pn2/1b6/2NP4/8/PP1BQPPP/R4RK1', 'b', 'kq', '-', '1', '15']"
      ]
     },
     "execution_count": 141,
     "metadata": {},
     "output_type": "execute_result"
    }
   ],
   "source": [
    "sampleFenString = \"r2qk2r/1pp2ppp/p3pn2/1b6/2NP4/8/PP1BQPPP/R4RK1 b kq - 1 15\"\n",
    "sampleFenString.split()"
   ]
  },
  {
   "cell_type": "markdown",
   "metadata": {},
   "source": [
    "But this wouldn't give us control on data validity. By using regular expressions to extract the data, we can ensure that there's no invalid data."
   ]
  },
  {
   "cell_type": "code",
   "execution_count": 142,
   "metadata": {},
   "outputs": [],
   "source": [
    "# Each piece of info is enclosed in a capture group (parenthesis) so that we can then extract them\n",
    "\n",
    "# A single row can contain 1 to 8 values, letters or number\n",
    "# A letter indicates a pieces\n",
    "# A number indicates the adiacent empty spaces to the right (there can be max 8 spaces, in which case it's an empty row) \n",
    "rowBoardRegex = \"[rnbqkpRNBQKP1-8]{1,8}\"\n",
    "\n",
    "# There are 8 rows. Each row (except the last one) has a slash to the right\n",
    "boardRegex = \"(\" + ((rowBoardRegex + \"/\") * 7) + rowBoardRegex + \")\"\n",
    "\n",
    "# Either white or black\n",
    "nextPlayerRegex = \"(w|b)\"\n",
    "\n",
    "# Shows availability of kingside/queenside castling for white and black; If there are no available options, there's a dash \n",
    "castlingRegex = \"([KQkq]{1,4}|-)\"\n",
    "\n",
    "# Shows square coordinates where the next player can move en passant (or a dash if there is no en passant move)\n",
    "enPassantRegex = \"([a-h][[1-8]|-)\"\n",
    "\n",
    "# Number\n",
    "movesSinceLastCaptureRegex = \"([0-9]+)\"\n",
    "\n",
    "# Number\n",
    "numberOfTurnsRegex = \"([0-9]+)\"\n",
    "\n",
    "# Joins the different controls to create the regex for the FEN strings\n",
    "fenRegex = \" \".join([boardRegex, nextPlayerRegex, castlingRegex, enPassantRegex, movesSinceLastCaptureRegex, numberOfTurnsRegex])\n",
    "\n",
    "# Sets symbols ^ and $ to specify start and end of string\n",
    "fenRegex = \"^\" + fenRegex + \"$\""
   ]
  },
  {
   "cell_type": "markdown",
   "metadata": {},
   "source": [
    "#### Examining FEN data validity"
   ]
  },
  {
   "cell_type": "code",
   "execution_count": 143,
   "metadata": {},
   "outputs": [
    {
     "name": "stdout",
     "output_type": "stream",
     "text": [
      "Number of games with invalid FEN data:  64934\n"
     ]
    }
   ],
   "source": [
    "# Checks for every game if the FEN data is valid\n",
    "games[\"fen_check\"] = games[\"fen\"].str.extract(fenRegex)[0]\n",
    "print(\"Number of games with invalid FEN data: \", games[\"fen_check\"].isna().sum())"
   ]
  },
  {
   "cell_type": "markdown",
   "metadata": {},
   "source": [
    "We can see that a lot of games have invalid FEN data. Let's explore the issue by checking a sample of invalid data."
   ]
  },
  {
   "cell_type": "code",
   "execution_count": 144,
   "metadata": {},
   "outputs": [
    {
     "data": {
      "text/plain": [
       "11                         8/8/8/8/8/8/1kp5/3K4 w - -\n",
       "19                         8/8/8/8/8/5K2/6Q1/7k b - -\n",
       "20    1r4k1/pbq2p1p/2P1p1p1/1Q6/8/6P1/P4PBP/6K1 b - -\n",
       "Name: fen, dtype: object"
      ]
     },
     "execution_count": 144,
     "metadata": {},
     "output_type": "execute_result"
    }
   ],
   "source": [
    "# Sample of invalid data\n",
    "games[games[\"fen_check\"].isna()][\"fen\"].head(3)"
   ]
  },
  {
   "cell_type": "markdown",
   "metadata": {},
   "source": [
    "As explained in the hints on FEN, a complete FEN string has 6 pieces of data separated by spaces. We can see that, in the sample of invalid data, there are only 4 pieces of information. \n",
    "\n",
    "Part of the FEN strings are missing the last 2 pieces of information (number of turns since last capture, number of turns).\n",
    "\n",
    "This means that:\n",
    "- the FEN column can't be used reliably to read the number of turns\n",
    "- the regex needs to be slightly altered to consider optionality of the last 2 parameters"
   ]
  },
  {
   "cell_type": "code",
   "execution_count": 145,
   "metadata": {},
   "outputs": [
    {
     "name": "stdout",
     "output_type": "stream",
     "text": [
      "Number of games with invalid FEN data:  28\n"
     ]
    }
   ],
   "source": [
    "# Fixed regex with last 2 parameters set as optional\n",
    "fenRegex = \"^\" + boardRegex + \" \" + nextPlayerRegex + \" \" + castlingRegex + \" \" + enPassantRegex + \\\n",
    "    \"( \" + movesSinceLastCaptureRegex + \" \" + numberOfTurnsRegex + \"){0,1}\"\n",
    "\n",
    "# Checks for every game if the FEN data is valid\n",
    "games[\"fen_check\"] = games[\"fen\"].str.extract(fenRegex)[0]\n",
    "print(\"Number of games with invalid FEN data: \", games[\"fen_check\"].isna().sum())"
   ]
  },
  {
   "cell_type": "code",
   "execution_count": 146,
   "metadata": {},
   "outputs": [
    {
     "name": "stdout",
     "output_type": "stream",
     "text": [
      "                                                            fen fen_check\n",
      "651             8/5kbR/3r1p2/P1pPp1p1/r5P1/8/8/3R1K2 w D - 4 34       NaN\n",
      "664      1kn2r1n/4p1pp/2B5/1pP2p2/7q/2Q3N1/3K2P1/3R4 w f - 0 27       NaN\n",
      "671  rkbbnrqn/pppppppp/8/8/8/3P4/PPP1PPPP/RKBBNRQN b FQfq - 0 1       NaN\n"
     ]
    }
   ],
   "source": [
    "# Sample of invalid data\n",
    "pd.set_option('display.max_colwidth', None) # Sets a higher column width to show the entirety of the data\n",
    "print(games[games[\"fen_check\"].isna()][[\"fen\", \"fen_check\"]].head(3))\n",
    "pd.reset_option('display.max_colwidth')"
   ]
  },
  {
   "cell_type": "markdown",
   "metadata": {},
   "source": [
    "Another error that some of the FEN strings present, as we can see in the sample, is having invalid characters like `D` and `F` in the castling parameter.\n",
    "\n",
    "Given that the most important piece of information we want to extract is the board setup (to calculate the piece and points advantage), let's change approach and check whether all the FEN strings contain valid board setups."
   ]
  },
  {
   "cell_type": "code",
   "execution_count": 147,
   "metadata": {},
   "outputs": [],
   "source": [
    "games.drop(columns=[\"fen_check\"], inplace=True)"
   ]
  },
  {
   "cell_type": "markdown",
   "metadata": {},
   "source": [
    "#### Extracting board setup"
   ]
  },
  {
   "cell_type": "code",
   "execution_count": 148,
   "metadata": {},
   "outputs": [
    {
     "name": "stdout",
     "output_type": "stream",
     "text": [
      "Number of games with invalid board information:  0\n"
     ]
    }
   ],
   "source": [
    "games[\"fen_board_setup\"] = games[\"fen\"].str.extract(boardRegex)[0]\n",
    "\n",
    "print(\"Number of games with invalid board information: \", games[\"fen_board_setup\"].isna().sum())"
   ]
  },
  {
   "cell_type": "code",
   "execution_count": 149,
   "metadata": {},
   "outputs": [
    {
     "name": "stdout",
     "output_type": "stream",
     "text": [
      "Sample board setups:\n",
      "0        r2r4/p2p1p1p/b6R/n1p1kp2/2P2P2/3BP3/PP5P/4K2R\n",
      "1                    8/5Q1k/4n1pp/8/7P/2N2b2/PP3P2/5K2\n",
      "2    rn1q1b1r/kb2p1pp/2p5/p1Q5/N1BP2n1/4PN2/1P3PPP/...\n",
      "Name: fen_board_setup, dtype: object\n"
     ]
    }
   ],
   "source": [
    "print(\"Sample board setups:\")\n",
    "print(games[\"fen_board_setup\"].head(3))"
   ]
  },
  {
   "cell_type": "markdown",
   "metadata": {},
   "source": [
    "#### Extracting number of pieces\n",
    "\n",
    "To calculate the piece and points advantage, first we need to count how many pieces each player has remaining."
   ]
  },
  {
   "cell_type": "code",
   "execution_count": 150,
   "metadata": {},
   "outputs": [
    {
     "name": "stdout",
     "output_type": "stream",
     "text": [
      "Sample comparison between FEN board and number of pieces:\n",
      "r2r4/p2p1p1p/b6R/n1p1kp2/2P2P2/3BP3/PP5P/4K2R\n",
      "White kings:  1\n",
      "White queens:  0\n",
      "White rooks:  2\n",
      "White knights:  0\n",
      "White bishops:  1\n",
      "White pawns:  6\n"
     ]
    }
   ],
   "source": [
    "# Counts white pieces\n",
    "games[\"white_pieces_kings\"] = games[\"fen_board_setup\"].str.count(\"K\")\n",
    "games[\"white_pieces_queens\"] = games[\"fen_board_setup\"].str.count(\"Q\")\n",
    "games[\"white_pieces_rooks\"] = games[\"fen_board_setup\"].str.count(\"R\")\n",
    "games[\"white_pieces_knights\"] = games[\"fen_board_setup\"].str.count(\"N\")\n",
    "games[\"white_pieces_bishops\"] = games[\"fen_board_setup\"].str.count(\"B\")\n",
    "games[\"white_pieces_pawns\"] = games[\"fen_board_setup\"].str.count(\"P\")\n",
    "\n",
    "# Counts black pieces\n",
    "games[\"black_pieces_kings\"] = games[\"fen_board_setup\"].str.count(\"k\")\n",
    "games[\"black_pieces_queens\"] = games[\"fen_board_setup\"].str.count(\"q\")\n",
    "games[\"black_pieces_rooks\"] = games[\"fen_board_setup\"].str.count(\"r\")\n",
    "games[\"black_pieces_knights\"] = games[\"fen_board_setup\"].str.count(\"n\")\n",
    "games[\"black_pieces_bishops\"] = games[\"fen_board_setup\"].str.count(\"b\")\n",
    "games[\"black_pieces_pawns\"] = games[\"fen_board_setup\"].str.count(\"p\")\n",
    "\n",
    "# Counts totals\n",
    "games[\"white_pieces\"] = games.loc[:, \"white_pieces_kings\":\"white_pieces_pawns\"].sum(axis=1)\n",
    "games[\"black_pieces\"] = games.loc[:, \"black_pieces_kings\":\"black_pieces_pawns\"].sum(axis=1)\n",
    "\n",
    "# Sample data\n",
    "sampleGame = games.iloc[0, :]\n",
    "print(\"Sample comparison between FEN board and number of pieces:\")\n",
    "print(sampleGame[\"fen_board_setup\"])\n",
    "print(\"White kings: \", sampleGame[\"white_pieces_kings\"])\n",
    "print(\"White queens: \", sampleGame[\"white_pieces_queens\"])\n",
    "print(\"White rooks: \", sampleGame[\"white_pieces_rooks\"])\n",
    "print(\"White knights: \", sampleGame[\"white_pieces_knights\"])\n",
    "print(\"White bishops: \", sampleGame[\"white_pieces_bishops\"])\n",
    "print(\"White pawns: \", sampleGame[\"white_pieces_pawns\"])"
   ]
  },
  {
   "cell_type": "markdown",
   "metadata": {},
   "source": [
    "#### Examining pieces data validity"
   ]
  },
  {
   "cell_type": "markdown",
   "metadata": {},
   "source": [
    "Each player in chess has with 1 king and 16 pieces. The game can't end with a player having zero pieces (since the king can't be captured but only checkmated). \n",
    "\n",
    "Let's check these parameters to ensure the integrity of the data related to players pieces."
   ]
  },
  {
   "cell_type": "code",
   "execution_count": 151,
   "metadata": {},
   "outputs": [
    {
     "name": "stdout",
     "output_type": "stream",
     "text": [
      "Number of games with at least one player with more than 16 pieces:  26\n",
      "Number of games with at least one player with less than 1 piece:  0\n",
      "Number of games with more/less than 1 king per player:  0\n"
     ]
    }
   ],
   "source": [
    "gamesWith16PlusPieces = games[(games[\"white_pieces\"] > 16) | (games[\"black_pieces\"] > 16)]\n",
    "print(\"Number of games with at least one player with more than 16 pieces: \", len(gamesWith16PlusPieces))\n",
    "\n",
    "gamesWithLessThan1Piece = games[(games[\"white_pieces\"] < 1) | (games[\"black_pieces\"] < 1)]\n",
    "print(\"Number of games with at least one player with less than 1 piece: \", len(gamesWithLessThan1Piece))\n",
    "\n",
    "gamesWithInvalidKings = games[(games[\"white_pieces_kings\"] != 1) | (games[\"black_pieces_kings\"] != 1)]\n",
    "print(\"Number of games with more/less than 1 king per player: \", len(gamesWithInvalidKings))"
   ]
  },
  {
   "cell_type": "markdown",
   "metadata": {},
   "source": [
    "We can see that some games have at least one player with more than 16 pieces. This could be due to either non-traditional chess rules or invalid FEN data.\n",
    "\n",
    "Let's explore this potential error."
   ]
  },
  {
   "cell_type": "code",
   "execution_count": 152,
   "metadata": {},
   "outputs": [
    {
     "data": {
      "text/plain": [
       "['crazyhouse']"
      ]
     },
     "execution_count": 152,
     "metadata": {},
     "output_type": "execute_result"
    }
   ],
   "source": [
    "list(gamesWith16PlusPieces[\"rules\"].unique())"
   ]
  },
  {
   "cell_type": "markdown",
   "metadata": {},
   "source": [
    "Every game that has a player with more than 16 pieces is in the `crazyhouse` rules format. In this chess variant, a player can either move as you would normally, or place on the board one of the pieces that you captured. \n",
    "\n",
    "This explains the data."
   ]
  },
  {
   "cell_type": "markdown",
   "metadata": {},
   "source": [
    "#### Extracting piece advantage\n",
    "\n",
    "Now we'll calculate the difference in number of pieces between the winner and the loser. \n",
    "If the number is negative, it means that the winner has won with less pieces remaining than the loser."
   ]
  },
  {
   "cell_type": "code",
   "execution_count": 153,
   "metadata": {},
   "outputs": [
    {
     "name": "stdout",
     "output_type": "stream",
     "text": [
      "Sample piece advantage data:\n",
      "  winner  white_pieces  black_pieces  piece_advantage\n",
      "0  white            10            11               -1\n",
      "1  white             7             5                2\n",
      "2  white            14            13                1\n"
     ]
    }
   ],
   "source": [
    "# Can be used to calculate points or pieces advantage by passing the desired column name\n",
    "def getAdvantage(game, columnName):\n",
    "    return (game[\"white_\" + columnName] - game[\"black_\" + columnName]) \\\n",
    "        * (1 if game[\"winner\"] == whitePlayer else -1) # If White has won, we calculate normally; otherwise, we flip the result\n",
    "\n",
    "games[\"piece_advantage\"] = games.apply(lambda game: getAdvantage(game, \"pieces\"), axis=1)\n",
    "\n",
    "# Sample data\n",
    "print(\"Sample piece advantage data:\")\n",
    "print(games[[\"winner\", \"white_pieces\", \"black_pieces\", \"piece_advantage\"]].head(3))"
   ]
  },
  {
   "cell_type": "markdown",
   "metadata": {},
   "source": [
    "#### Extracting points advantage\n",
    "\n",
    "Now we'll calculate the difference in pieces points between the winner and the loser.\n",
    "If the number is negative, it means that the winner has won with a weaker set of pieces than the loser."
   ]
  },
  {
   "cell_type": "code",
   "execution_count": 154,
   "metadata": {},
   "outputs": [
    {
     "name": "stdout",
     "output_type": "stream",
     "text": [
      "Sample point calculation: \n",
      "White points:  19\n",
      "White queens:  0  * 9 points each\n",
      "White rooks:  2  * 5 points each\n",
      "White knights:  0  * 3 points each\n",
      "White bishops:  1  * 3 points each\n",
      "White pawns:  6  * 1 point each\n",
      "\n",
      "Sample points advantage data:\n",
      "  winner  white_points  black_points  points_advantage\n",
      "0  white            19            22                -3\n",
      "1  white            16             8                 8\n",
      "2  white            37            36                 1\n"
     ]
    }
   ],
   "source": [
    "def getPoints(game, player):\n",
    "    return game[player + \"_pieces_queens\"] * 9 + game[player + \"_pieces_rooks\"] * 5 + \\\n",
    "    game[player + \"_pieces_knights\"] * 3 + game[player + \"_pieces_bishops\"] * 3 + game[player + \"_pieces_pawns\"] * 1\n",
    "\n",
    "games[\"white_points\"] = games.apply(lambda game: getPoints(game, whitePlayer), axis=1)\n",
    "games[\"black_points\"] = games.apply(lambda game: getPoints(game, blackPlayer), axis=1)\n",
    "games[\"points_advantage\"] = games.apply(lambda game: getAdvantage(game, \"points\"), axis=1)\n",
    "\n",
    "# Sample data\n",
    "sampleGame = games.iloc[0, :]\n",
    "print (\"Sample point calculation: \")\n",
    "print(\"White points: \", sampleGame[\"white_points\"])\n",
    "print(\"White queens: \", sampleGame[\"white_pieces_queens\"], \" * 9 points each\")\n",
    "print(\"White rooks: \", sampleGame[\"white_pieces_rooks\"], \" * 5 points each\")\n",
    "print(\"White knights: \", sampleGame[\"white_pieces_knights\"], \" * 3 points each\")\n",
    "print(\"White bishops: \", sampleGame[\"white_pieces_bishops\"], \" * 3 points each\")\n",
    "print(\"White pawns: \", sampleGame[\"white_pieces_pawns\"], \" * 1 point each\")\n",
    "\n",
    "print(\"\\nSample points advantage data:\")\n",
    "print(games[[\"winner\", \"white_points\", \"black_points\", \"points_advantage\"]].head(3))"
   ]
  },
  {
   "cell_type": "markdown",
   "metadata": {},
   "source": [
    "### PGN column manipulation\n",
    "\n",
    "As seen in the initial data exploration, the PGN column contains nested data."
   ]
  },
  {
   "cell_type": "code",
   "execution_count": 155,
   "metadata": {},
   "outputs": [
    {
     "name": "stdout",
     "output_type": "stream",
     "text": [
      "[Event \"Enjoyable games 2 - Round 1\"]\n",
      "[Site \"Chess.com\"]\n",
      "[Date \"2013.01.30\"]\n",
      "[Round \"-\"]\n",
      "[White \"-Amos-\"]\n",
      "[Black \"miniman2804\"]\n",
      "[Result \"1-0\"]\n",
      "[Tournament \"https://www.chess.com/tournament/enjoyable-games-2\"]\n",
      "[CurrentPosition \"r2r4/p2p1p1p/b6R/n1p1kp2/2P2P2/3BP3/PP5P/4K2R b K f3 1 22\"]\n",
      "[Timezone \"UTC\"]\n",
      "[ECO \"E22\"]\n",
      "[ECOUrl \"https://www.chess.com/openings/Nimzo-Indian-Defense-Spielmann-Variation\"]\n",
      "[UTCDate \"2013.01.30\"]\n",
      "[UTCTime \"16:35:14\"]\n",
      "[WhiteElo \"1708\"]\n",
      "[BlackElo \"1608\"]\n",
      "[TimeControl \"1/259200\"]\n",
      "[Termination \"-Amos- won by checkmate\"]\n",
      "[StartTime \"16:35:14\"]\n",
      "[EndDate \"2013.02.01\"]\n",
      "[EndTime \"18:14:48\"]\n",
      "[Link \"https://www.chess.com/game/daily/64629816\"]\n",
      "\n",
      "1. d4 Nf6 2. c4 e6 3. Nc3 Bb4 4. Qb3 Bxc3+ 5. Qxc3 O-O 6. Bg5 c5 7. dxc5 Nc6 8. Nf3 Qa5 9. Bxf6 gxf6 10. Qxa5 Nxa5 11. e3 Rd8 12. Rd1 Kg7 13. Be2 b6 14. Rd4 bxc5 15. Rg4+ Kh6 16. Bd3 f5 17. Rh4+ Kg6 18. g4 Ba6 19. gxf5+ exf5 20. Ne5+ Kf6 21. Rh6+ Kxe5 22. f4# 1-0\n"
     ]
    }
   ],
   "source": [
    "# Sample data\n",
    "print(games.loc[0, \"pgn\"])"
   ]
  },
  {
   "cell_type": "markdown",
   "metadata": {},
   "source": [
    "Some of the data in it (i.e. white/black ELO, termination cause, etc.) are redundant with other columns in the dataset. Other pieces of data are less interesting from an analysis standpoint (i.e. timezone, url link to game information).\n",
    "\n",
    "The two pieces of data we're interested in extracting are:\n",
    "- game date (to perform analysis on dates)\n",
    "- opening ECO (to perform analysis on moves)\n",
    "\n",
    "First thing we'll do is renaming the PGN column into a less ambiguous name, since it doesn't contain (only) PGN information."
   ]
  },
  {
   "cell_type": "code",
   "execution_count": 156,
   "metadata": {},
   "outputs": [],
   "source": [
    "games.rename(columns={\"pgn\": \"game_information\"}, inplace=True)"
   ]
  },
  {
   "cell_type": "markdown",
   "metadata": {},
   "source": [
    "#### Extracting game date\n",
    "\n",
    "We'll use a regular expression to extract the game date from the game_information column, looking for the values contained within the [Date] tag."
   ]
  },
  {
   "cell_type": "code",
   "execution_count": 157,
   "metadata": {},
   "outputs": [
    {
     "name": "stdout",
     "output_type": "stream",
     "text": [
      "Number of games with invalid date information:  0\n",
      "Sample dates:\n",
      "0    2013.01.30\n",
      "1    2013.01.19\n",
      "2    2013.02.01\n",
      "Name: game_date, dtype: object\n"
     ]
    }
   ],
   "source": [
    "# A date in the game_information column is composed as year.month.day\n",
    "dateStringRegex = \"[0-9]{4}\\.[0-9]{2}\\.[0-9]{2}\"\n",
    "# The date is contained in a tag in the structure [Date \"my_date\"]\n",
    "# We only want the my_date part, so we put it in a capture group (in parenthesis)\n",
    "dateFieldRegex = \"\\[Date \\\"(\" + dateStringRegex + \")\\\"\\]\"\n",
    "\n",
    "games[\"game_date\"] = games[\"game_information\"].str.extract(dateFieldRegex)[0]\n",
    "\n",
    "# Sample data\n",
    "print(\"Number of games with invalid date information: \", games[\"game_date\"].isna().sum())\n",
    "print(\"Sample dates:\")\n",
    "print(games[\"game_date\"].head(3))"
   ]
  },
  {
   "cell_type": "markdown",
   "metadata": {},
   "source": [
    "#### Extracting ECO opening code\n",
    "\n",
    "ECO (Encyclopaedia of Chess Opening) codes are codes that uniquely identify common chess opening moves. \n",
    "\n",
    "An ECO code is composed of:\n",
    "- a letter, from A to E, representing the opening category\n",
    "- a two-digits number, that uniquely identifies the opening in its category\n",
    "\n",
    "We'll use a regular expression to extract the game date from the game_information column, looking for the values contained within the [ECO] tag."
   ]
  },
  {
   "cell_type": "code",
   "execution_count": 158,
   "metadata": {},
   "outputs": [
    {
     "name": "stdout",
     "output_type": "stream",
     "text": [
      "Number of games with invalid ECO information:  547\n"
     ]
    }
   ],
   "source": [
    "ecoStringRegex = \"[A-E][0-9]{2}\"\n",
    "ecoFieldRegex = \"\\[ECO \\\"(\" + ecoStringRegex + \")\\\"\\]\"\n",
    "\n",
    "games[\"opening_code\"] = games[\"game_information\"].str.extract(ecoFieldRegex)[0]\n",
    "\n",
    "# Checks missing values\n",
    "print(\"Number of games with invalid ECO information: \", games[\"opening_code\"].isna().sum())"
   ]
  },
  {
   "cell_type": "markdown",
   "metadata": {},
   "source": [
    "Some games are missing the ECO codes. This could be due to non-traditional chess rules, non-traditional openings, or missing data.\n",
    "\n",
    "First, let's check how many of the games with missing data are chess variants."
   ]
  },
  {
   "cell_type": "code",
   "execution_count": 159,
   "metadata": {},
   "outputs": [
    {
     "data": {
      "text/plain": [
       "chess            520\n",
       "chess960          14\n",
       "kingofthehill      6\n",
       "crazyhouse         5\n",
       "threecheck         2\n",
       "Name: rules, dtype: int64"
      ]
     },
     "execution_count": 159,
     "metadata": {},
     "output_type": "execute_result"
    }
   ],
   "source": [
    "games[games[\"opening_code\"].isna()][\"rules\"].value_counts()"
   ]
  },
  {
   "cell_type": "markdown",
   "metadata": {},
   "source": [
    "Most of the games with missing ECO data are traditional chess games, so it's not due to variant rules.\n",
    "\n",
    "Another possible option could be that these are games that never started."
   ]
  },
  {
   "cell_type": "code",
   "execution_count": 160,
   "metadata": {},
   "outputs": [
    {
     "data": {
      "text/plain": [
       "rnbqkbnr/pppppppp/8/8/8/8/PPPPPPPP/RNBQKBNR               469\n",
       "rkbbnrqn/pppppppp/8/8/8/8/PPPPPPPP/RKBBNRQN                 3\n",
       "rnbq1bnr/ppppkppp/8/4p3/4P3/8/PPPPKPPP/RNBQ1BNR             2\n",
       "rn2Rk1r/pbpp1p1p/1pq3p1/3n4/8/2Q2PP1/P1P2K1P/4R3            1\n",
       "8/4p3/4kp2/2P5/3K4/8/8/8                                    1\n",
       "                                                         ... \n",
       "r2q1rk1/1ppbbppp/p2p1nn1/6B1/4PP2/1BN3NP/PP4P1/R2QR1K1      1\n",
       "6k1/5rp1/p1b4p/1pq5/3p1N1P/P7/2PQK1P1/4R3                   1\n",
       "4Rrk1/6p1/p6p/1p6/3p1q2/P2K4/2P3b1/3Q4                      1\n",
       "rkb2rnb/ppppqppp/8/8/5n2/8/PPPPPPPP/RKB1QRNB                1\n",
       "4r3/pp4kp/2p5/2PpqpP1/8/7P/PP4P1/4R1K1                      1\n",
       "Name: fen_board_setup, Length: 76, dtype: int64"
      ]
     },
     "execution_count": 160,
     "metadata": {},
     "output_type": "execute_result"
    }
   ],
   "source": [
    "games[games[\"opening_code\"].isna()][\"fen_board_setup\"].value_counts()"
   ]
  },
  {
   "cell_type": "markdown",
   "metadata": {},
   "source": [
    "The majority of the games with missing ECO information is composed of games that never started, as we can see from the board setup `rnbqkbnr/pppppppp/8/8/8/8/PPPPPPPP/RNBQKBNR`, which represent the starting board setup.\n",
    "\n",
    "Let's explore the causes."
   ]
  },
  {
   "cell_type": "code",
   "execution_count": 161,
   "metadata": {},
   "outputs": [
    {
     "data": {
      "text/plain": [
       "timeout      207\n",
       "abandoned    135\n",
       "resigned     118\n",
       "agreed         9\n",
       "Name: result_type, dtype: int64"
      ]
     },
     "execution_count": 161,
     "metadata": {},
     "output_type": "execute_result"
    }
   ],
   "source": [
    "games[(games[\"opening_code\"].isna()) & (games[\"fen_board_setup\"] == \"rnbqkbnr/pppppppp/8/8/8/8/PPPPPPPP/RNBQKBNR\")][\"result_type\"].value_counts()"
   ]
  },
  {
   "cell_type": "markdown",
   "metadata": {},
   "source": [
    "We can see that, all of the games with missing ECO information and board setup stuck to the starting position, none of them has ended due to a checkmate victory. So, this is congruent data.\n",
    "\n",
    "Leaving or removing these never-started games from the dataset is a matter of personal choice. They represent a minority of the total data. Although they may slightly influence information like winrates, removing them could make the data less realistic.\n",
    "\n",
    "We can choose to simply ignore them when performing analysis on ECO codes."
   ]
  },
  {
   "cell_type": "markdown",
   "metadata": {},
   "source": [
    "For additional analysis, we can also extract the opening code groups"
   ]
  },
  {
   "cell_type": "code",
   "execution_count": 162,
   "metadata": {},
   "outputs": [
    {
     "name": "stdout",
     "output_type": "stream",
     "text": [
      "Sample opening code group data:\n"
     ]
    },
    {
     "data": {
      "text/plain": [
       "0    E\n",
       "1    C\n",
       "2    D\n",
       "Name: opening_code_group, dtype: object"
      ]
     },
     "execution_count": 162,
     "metadata": {},
     "output_type": "execute_result"
    }
   ],
   "source": [
    "games[\"opening_code_group\"] = games[\"opening_code\"].str[0:1]\n",
    "print(\"Sample opening code group data:\")\n",
    "games[\"opening_code_group\"].head(3)"
   ]
  },
  {
   "cell_type": "markdown",
   "metadata": {},
   "source": [
    "### Rating data manipulation\n",
    "\n",
    "Another small tweak we can perform on the dataset is adding extra columns regarding rating data:\n",
    "- players_mean_rating\n",
    "- players_rating_difference\n",
    "\n",
    "This way the rating data will be easier to handle in the upcoming analysis"
   ]
  },
  {
   "cell_type": "code",
   "execution_count": 163,
   "metadata": {},
   "outputs": [
    {
     "name": "stdout",
     "output_type": "stream",
     "text": [
      "Sample rating data:\n"
     ]
    },
    {
     "data": {
      "text/html": [
       "<div>\n",
       "<style scoped>\n",
       "    .dataframe tbody tr th:only-of-type {\n",
       "        vertical-align: middle;\n",
       "    }\n",
       "\n",
       "    .dataframe tbody tr th {\n",
       "        vertical-align: top;\n",
       "    }\n",
       "\n",
       "    .dataframe thead th {\n",
       "        text-align: right;\n",
       "    }\n",
       "</style>\n",
       "<table border=\"1\" class=\"dataframe\">\n",
       "  <thead>\n",
       "    <tr style=\"text-align: right;\">\n",
       "      <th></th>\n",
       "      <th>winner</th>\n",
       "      <th>white_rating</th>\n",
       "      <th>black_rating</th>\n",
       "      <th>mean_player_rating</th>\n",
       "      <th>players_rating_difference</th>\n",
       "    </tr>\n",
       "  </thead>\n",
       "  <tbody>\n",
       "    <tr>\n",
       "      <th>0</th>\n",
       "      <td>white</td>\n",
       "      <td>1708</td>\n",
       "      <td>1608</td>\n",
       "      <td>1658.0</td>\n",
       "      <td>100</td>\n",
       "    </tr>\n",
       "    <tr>\n",
       "      <th>1</th>\n",
       "      <td>white</td>\n",
       "      <td>1726</td>\n",
       "      <td>1577</td>\n",
       "      <td>1651.5</td>\n",
       "      <td>149</td>\n",
       "    </tr>\n",
       "    <tr>\n",
       "      <th>2</th>\n",
       "      <td>white</td>\n",
       "      <td>1727</td>\n",
       "      <td>842</td>\n",
       "      <td>1284.5</td>\n",
       "      <td>885</td>\n",
       "    </tr>\n",
       "  </tbody>\n",
       "</table>\n",
       "</div>"
      ],
      "text/plain": [
       "  winner  white_rating  black_rating  mean_player_rating  \\\n",
       "0  white          1708          1608              1658.0   \n",
       "1  white          1726          1577              1651.5   \n",
       "2  white          1727           842              1284.5   \n",
       "\n",
       "   players_rating_difference  \n",
       "0                        100  \n",
       "1                        149  \n",
       "2                        885  "
      ]
     },
     "execution_count": 163,
     "metadata": {},
     "output_type": "execute_result"
    }
   ],
   "source": [
    "games[\"mean_player_rating\"] = games[[\"white_rating\", \"black_rating\"]].mean(axis=1)\n",
    "games[\"players_rating_difference\"] = (games[\"white_rating\"] - games[\"black_rating\"]).abs()\n",
    "\n",
    "print(\"Sample rating data:\")\n",
    "games[[\"winner\", \"white_rating\", \"black_rating\", \"mean_player_rating\", \"players_rating_difference\"]].head(3)"
   ]
  },
  {
   "cell_type": "markdown",
   "metadata": {},
   "source": [
    "## Data exploration and visualization"
   ]
  },
  {
   "cell_type": "markdown",
   "metadata": {},
   "source": [
    "Let's review the columns at our disposal for the analysis"
   ]
  },
  {
   "cell_type": "code",
   "execution_count": 164,
   "metadata": {},
   "outputs": [
    {
     "name": "stdout",
     "output_type": "stream",
     "text": [
      "['white_username', 'black_username', 'white_rating', 'black_rating', 'time_class', 'time_control', 'rules', 'rated', 'fen', 'game_information', 'time_type', 'timer_minutes', 'winner', 'result_type', 'fen_board_setup', 'white_pieces_kings', 'white_pieces_queens', 'white_pieces_rooks', 'white_pieces_knights', 'white_pieces_bishops', 'white_pieces_pawns', 'black_pieces_kings', 'black_pieces_queens', 'black_pieces_rooks', 'black_pieces_knights', 'black_pieces_bishops', 'black_pieces_pawns', 'white_pieces', 'black_pieces', 'piece_advantage', 'white_points', 'black_points', 'points_advantage', 'game_date', 'opening_code', 'opening_code_group', 'mean_player_rating', 'players_rating_difference']\n"
     ]
    }
   ],
   "source": [
    "print(list(games.columns))"
   ]
  },
  {
   "cell_type": "markdown",
   "metadata": {},
   "source": [
    "### Game modes and outliers"
   ]
  },
  {
   "cell_type": "markdown",
   "metadata": {},
   "source": [
    "Domain knowledge on chess allows us to expect that:\n",
    "- there should be almost exclusively games with traditional chess rules\n",
    "- there should be a higher percentage of games with per-game timer (non-daily games)"
   ]
  },
  {
   "cell_type": "markdown",
   "metadata": {},
   "source": [
    "#### Distribution of games by chess rules"
   ]
  },
  {
   "cell_type": "markdown",
   "metadata": {},
   "source": [
    "First, let's check how many games follow tradition chess rules in comparison to variant chess rules."
   ]
  },
  {
   "cell_type": "code",
   "execution_count": null,
   "metadata": {},
   "outputs": [],
   "source": [
    "# Preliminary setup\n",
    "\n",
    "# Sets graphs' backgrounds to white in VS code with dark theme\n",
    "pltlib.style.use('default')\n",
    "\n",
    "pastelColors = sns.color_palette('pastel')[0:5]"
   ]
  },
  {
   "cell_type": "code",
   "execution_count": 247,
   "metadata": {},
   "outputs": [
    {
     "data": {
      "image/png": "[encoded data removed]",
      "text/plain": [
       "<Figure size 640x400 with 1 Axes>"
      ]
     },
     "metadata": {},
     "output_type": "display_data"
    }
   ],
   "source": [
    "# Counts games by rule format\n",
    "gameRules = games[\"rules\"].value_counts()\n",
    "\n",
    "# Groups small values\n",
    "treshold = len(games) / 100 # Rules used in less than 1% of games will be grouped in the \"Others\" category\n",
    "rulesChartData = gameRules[gameRules >= treshold]\n",
    "rulesChartData[\"variants\"] = gameRules[gameRules < treshold].sum()\n",
    "\n",
    "# Draws graph\n",
    "rulesFig, rulesAx = plt.subplots()\n",
    "rulesFig.set_figheight(4)\n",
    "rulesAx.set_title(\"Most of the games are played with traditional chess rules\")\n",
    "rulesAx.pie(rulesChartData.values, labels = rulesChartData.index.values, \n",
    "    colors=pastelColors, autopct='%.2f%%')\n",
    "\n",
    "plt.show()"
   ]
  },
  {
   "cell_type": "markdown",
   "metadata": {},
   "source": [
    "As expected, most games are traditional chess games.\n",
    "\n",
    "Out of curiosity, let's see what's the most played non-traditional format."
   ]
  },
  {
   "cell_type": "code",
   "execution_count": 246,
   "metadata": {},
   "outputs": [
    {
     "data": {
      "image/png": "[encoded data removed]",
      "text/plain": [
       "<Figure size 640x400 with 1 Axes>"
      ]
     },
     "metadata": {},
     "output_type": "display_data"
    }
   ],
   "source": [
    "# Graph for the distribution of variant chess rules\n",
    "variantRulesChartData = gameRules[gameRules < treshold]\n",
    "\n",
    "rulesFig, rulesAx = plt.subplots()\n",
    "rulesFig.set_figheight(4)\n",
    "rulesAx.set_title(\"The most played variant rules format is crazyhouse\")\n",
    "rulesAx.pie(variantRulesChartData.values, labels = variantRulesChartData.index.values, \n",
    "    colors=pastelColors, autopct='%.2f%%', \n",
    "    counterclock=False, startangle=-180)\n",
    "\n",
    "plt.show()"
   ]
  },
  {
   "cell_type": "markdown",
   "metadata": {},
   "source": [
    "Given that most of the games are in the traditional format, including games with different rules in our analysis may give us skewed data.\n",
    "\n",
    "So, we'll remove games with variant rules from our main dataset, and store them in a different dataset to perform separate analysis on them. "
   ]
  },
  {
   "cell_type": "code",
   "execution_count": 250,
   "metadata": {},
   "outputs": [],
   "source": [
    "# Saves variant games in a different dataset\n",
    "variantGames = games[~(games[\"rules\"] == \"chess\")]\n",
    "\n",
    "# Removes variant games from the main dataset\\\n",
    "games = games[games[\"rules\"] == \"chess\"]"
   ]
  }
 ],
 "metadata": {
  "interpreter": {
   "hash": "f6267a05d490a4e1a15393ad928f3beda4fd721621a940b59c5e6dbb70f45db7"
  },
  "kernelspec": {
   "display_name": "Python 3.8.11 64-bit ('python_env_win_course_2': conda)",
   "name": "python3"
  },
  "language_info": {
   "codemirror_mode": {
    "name": "ipython",
    "version": 3
   },
   "file_extension": ".py",
   "mimetype": "text/x-python",
   "name": "python",
   "nbconvert_exporter": "python",
   "pygments_lexer": "ipython3",
   "version": "3.8.11"
  },
  "orig_nbformat": 4
 },
 "nbformat": 4,
 "nbformat_minor": 2
}
