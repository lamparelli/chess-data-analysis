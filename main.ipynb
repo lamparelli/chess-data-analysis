{
 "cells": [
  {
   "cell_type": "markdown",
   "metadata": {},
   "source": [
    "# Dataset Analysis: \"60,000+ Chess Game Dataset (Chess.com)\""
   ]
  },
  {
   "cell_type": "markdown",
   "metadata": {},
   "source": [
    "## Author\n",
    "\n",
    "Analysis by Ivan Lamparelli\n",
    "\n",
    "Written in October 2021"
   ]
  },
  {
   "cell_type": "markdown",
   "metadata": {},
   "source": [
    "## Dataset Description\n",
    "\n",
    "The dataset gathers information regarding chess games on the [Chess.com](https://www.chess.com/) platform. \n",
    "\n",
    "The dataset has been retrieved from [Kaggle](https://www.kaggle.com/adityajha1504/chesscom-user-games-60000-games). It's composed of a 160MB .csv file, which contains 14 columns and 66.879 rows.\n",
    "\n",
    "Each row is related to a single game, and contains data like:\n",
    "- username and ELO score of both players\n",
    "- which player has won\n",
    "- type of victory/draw (i.e. victory by checkmate or time)\n",
    "- time format\n",
    "- game format\n",
    "- game FEN and PGN"
   ]
  },
  {
   "cell_type": "markdown",
   "metadata": {},
   "source": [
    "## Analysis goals\n",
    "\n",
    "The initial questions I've planned to respond to when starting this analysis are the following:\n",
    "- How is ELO distributed among players?\n",
    "- What are the most common opening moves? \n",
    "- How do openings change at different ELO ranges?\n",
    "- How many turns is an average game?\n",
    "- How does the time format influence the number of turns and the piece advantage between players?\n",
    "- Do high ELO players end the game with a lower or higher piece advantage on average?\n",
    "- What are the most common win/draw conditions overall? Are these influencede by ELO and time format?\n",
    "\n",
    "Further questions may emerge during the analysis depending on what I discover."
   ]
  },
  {
   "cell_type": "markdown",
   "metadata": {},
   "source": [
    "## Project setup"
   ]
  },
  {
   "cell_type": "markdown",
   "metadata": {},
   "source": [
    "### Project libraries"
   ]
  },
  {
   "cell_type": "code",
   "execution_count": 1,
   "metadata": {},
   "outputs": [],
   "source": [
    "import pandas as pd\n",
    "import os"
   ]
  },
  {
   "cell_type": "markdown",
   "metadata": {},
   "source": [
    "### Dataset import"
   ]
  },
  {
   "cell_type": "code",
   "execution_count": 2,
   "metadata": {},
   "outputs": [],
   "source": [
    "# I've used the OS path separator to ensure the code would work both on Windows and Unix environments\n",
    "games = pd.read_csv(\"data\" + os.path.sep + \"club_games_data.csv\")"
   ]
  },
  {
   "cell_type": "markdown",
   "metadata": {},
   "source": [
    "## Dataset structure"
   ]
  },
  {
   "cell_type": "code",
   "execution_count": 3,
   "metadata": {},
   "outputs": [
    {
     "name": "stdout",
     "output_type": "stream",
     "text": [
      "Columns:\n",
      "['white_username', 'black_username', 'white_id', 'black_id', 'white_rating', 'black_rating', 'white_result', 'black_result', 'time_class', 'time_control', 'rules', 'rated', 'fen', 'pgn']\n",
      "Number of columns:  14\n",
      "Number of rows:  66879\n"
     ]
    }
   ],
   "source": [
    "print(\"Columns:\")\n",
    "print(list(games.columns))\n",
    "print(\"Number of columns: \", games.columns.size)\n",
    "print(\"Number of rows: \", len(games))"
   ]
  },
  {
   "cell_type": "markdown",
   "metadata": {},
   "source": [
    "### Sample data"
   ]
  },
  {
   "cell_type": "code",
   "execution_count": 4,
   "metadata": {},
   "outputs": [
    {
     "data": {
      "text/html": [
       "<div>\n",
       "<style scoped>\n",
       "    .dataframe tbody tr th:only-of-type {\n",
       "        vertical-align: middle;\n",
       "    }\n",
       "\n",
       "    .dataframe tbody tr th {\n",
       "        vertical-align: top;\n",
       "    }\n",
       "\n",
       "    .dataframe thead th {\n",
       "        text-align: right;\n",
       "    }\n",
       "</style>\n",
       "<table border=\"1\" class=\"dataframe\">\n",
       "  <thead>\n",
       "    <tr style=\"text-align: right;\">\n",
       "      <th></th>\n",
       "      <th>white_username</th>\n",
       "      <th>black_username</th>\n",
       "      <th>white_id</th>\n",
       "      <th>black_id</th>\n",
       "      <th>white_rating</th>\n",
       "      <th>black_rating</th>\n",
       "      <th>white_result</th>\n",
       "      <th>black_result</th>\n",
       "      <th>time_class</th>\n",
       "      <th>time_control</th>\n",
       "      <th>rules</th>\n",
       "      <th>rated</th>\n",
       "      <th>fen</th>\n",
       "      <th>pgn</th>\n",
       "    </tr>\n",
       "  </thead>\n",
       "  <tbody>\n",
       "    <tr>\n",
       "      <th>0</th>\n",
       "      <td>-Amos-</td>\n",
       "      <td>miniman2804</td>\n",
       "      <td>https://api.chess.com/pub/player/-amos-</td>\n",
       "      <td>https://api.chess.com/pub/player/miniman2804</td>\n",
       "      <td>1708</td>\n",
       "      <td>1608</td>\n",
       "      <td>win</td>\n",
       "      <td>checkmated</td>\n",
       "      <td>daily</td>\n",
       "      <td>1/259200</td>\n",
       "      <td>chess</td>\n",
       "      <td>True</td>\n",
       "      <td>r2r4/p2p1p1p/b6R/n1p1kp2/2P2P2/3BP3/PP5P/4K2R ...</td>\n",
       "      <td>[Event \"Enjoyable games 2 - Round 1\"]\\n[Site \"...</td>\n",
       "    </tr>\n",
       "    <tr>\n",
       "      <th>1</th>\n",
       "      <td>-Amos-</td>\n",
       "      <td>koltcho69</td>\n",
       "      <td>https://api.chess.com/pub/player/-amos-</td>\n",
       "      <td>https://api.chess.com/pub/player/koltcho69</td>\n",
       "      <td>1726</td>\n",
       "      <td>1577</td>\n",
       "      <td>win</td>\n",
       "      <td>resigned</td>\n",
       "      <td>daily</td>\n",
       "      <td>1/172800</td>\n",
       "      <td>chess</td>\n",
       "      <td>True</td>\n",
       "      <td>8/5Q1k/4n1pp/8/7P/2N2b2/PP3P2/5K2 b - - 1 33</td>\n",
       "      <td>[Event \"Rapid Rats - Board 5\"]\\n[Site \"Chess.c...</td>\n",
       "    </tr>\n",
       "    <tr>\n",
       "      <th>2</th>\n",
       "      <td>-Amos-</td>\n",
       "      <td>enhmandah</td>\n",
       "      <td>https://api.chess.com/pub/player/-amos-</td>\n",
       "      <td>https://api.chess.com/pub/player/enhmandah</td>\n",
       "      <td>1727</td>\n",
       "      <td>842</td>\n",
       "      <td>win</td>\n",
       "      <td>resigned</td>\n",
       "      <td>daily</td>\n",
       "      <td>1/172800</td>\n",
       "      <td>chess</td>\n",
       "      <td>True</td>\n",
       "      <td>rn1q1b1r/kb2p1pp/2p5/p1Q5/N1BP2n1/4PN2/1P3PPP/...</td>\n",
       "      <td>[Event \"CHESS BOARD CLASH - Round 1\"]\\n[Site \"...</td>\n",
       "    </tr>\n",
       "    <tr>\n",
       "      <th>3</th>\n",
       "      <td>enhmandah</td>\n",
       "      <td>-Amos-</td>\n",
       "      <td>https://api.chess.com/pub/player/enhmandah</td>\n",
       "      <td>https://api.chess.com/pub/player/-amos-</td>\n",
       "      <td>819</td>\n",
       "      <td>1727</td>\n",
       "      <td>checkmated</td>\n",
       "      <td>win</td>\n",
       "      <td>daily</td>\n",
       "      <td>1/172800</td>\n",
       "      <td>chess</td>\n",
       "      <td>True</td>\n",
       "      <td>r3kb1r/pp3ppp/3p1n2/2pKp3/P3P3/1P6/4qP1P/QNB5 ...</td>\n",
       "      <td>[Event \"CHESS BOARD CLASH - Round 1\"]\\n[Site \"...</td>\n",
       "    </tr>\n",
       "    <tr>\n",
       "      <th>4</th>\n",
       "      <td>-Amos-</td>\n",
       "      <td>Shalllow-Blue</td>\n",
       "      <td>https://api.chess.com/pub/player/-amos-</td>\n",
       "      <td>https://api.chess.com/pub/player/shalllow-blue</td>\n",
       "      <td>1729</td>\n",
       "      <td>1116</td>\n",
       "      <td>win</td>\n",
       "      <td>resigned</td>\n",
       "      <td>daily</td>\n",
       "      <td>1/172800</td>\n",
       "      <td>chess</td>\n",
       "      <td>True</td>\n",
       "      <td>r3b2r/pp6/2pPpR1k/4n3/2P3Q1/3B4/PP4PP/R5K1 b -...</td>\n",
       "      <td>[Event \"CHESS BOARD CLASH - Round 1\"]\\n[Site \"...</td>\n",
       "    </tr>\n",
       "  </tbody>\n",
       "</table>\n",
       "</div>"
      ],
      "text/plain": [
       "  white_username black_username                                    white_id  \\\n",
       "0         -Amos-    miniman2804     https://api.chess.com/pub/player/-amos-   \n",
       "1         -Amos-      koltcho69     https://api.chess.com/pub/player/-amos-   \n",
       "2         -Amos-      enhmandah     https://api.chess.com/pub/player/-amos-   \n",
       "3      enhmandah         -Amos-  https://api.chess.com/pub/player/enhmandah   \n",
       "4         -Amos-  Shalllow-Blue     https://api.chess.com/pub/player/-amos-   \n",
       "\n",
       "                                         black_id  white_rating  black_rating  \\\n",
       "0    https://api.chess.com/pub/player/miniman2804          1708          1608   \n",
       "1      https://api.chess.com/pub/player/koltcho69          1726          1577   \n",
       "2      https://api.chess.com/pub/player/enhmandah          1727           842   \n",
       "3         https://api.chess.com/pub/player/-amos-           819          1727   \n",
       "4  https://api.chess.com/pub/player/shalllow-blue          1729          1116   \n",
       "\n",
       "  white_result black_result time_class time_control  rules  rated  \\\n",
       "0          win   checkmated      daily     1/259200  chess   True   \n",
       "1          win     resigned      daily     1/172800  chess   True   \n",
       "2          win     resigned      daily     1/172800  chess   True   \n",
       "3   checkmated          win      daily     1/172800  chess   True   \n",
       "4          win     resigned      daily     1/172800  chess   True   \n",
       "\n",
       "                                                 fen  \\\n",
       "0  r2r4/p2p1p1p/b6R/n1p1kp2/2P2P2/3BP3/PP5P/4K2R ...   \n",
       "1       8/5Q1k/4n1pp/8/7P/2N2b2/PP3P2/5K2 b - - 1 33   \n",
       "2  rn1q1b1r/kb2p1pp/2p5/p1Q5/N1BP2n1/4PN2/1P3PPP/...   \n",
       "3  r3kb1r/pp3ppp/3p1n2/2pKp3/P3P3/1P6/4qP1P/QNB5 ...   \n",
       "4  r3b2r/pp6/2pPpR1k/4n3/2P3Q1/3B4/PP4PP/R5K1 b -...   \n",
       "\n",
       "                                                 pgn  \n",
       "0  [Event \"Enjoyable games 2 - Round 1\"]\\n[Site \"...  \n",
       "1  [Event \"Rapid Rats - Board 5\"]\\n[Site \"Chess.c...  \n",
       "2  [Event \"CHESS BOARD CLASH - Round 1\"]\\n[Site \"...  \n",
       "3  [Event \"CHESS BOARD CLASH - Round 1\"]\\n[Site \"...  \n",
       "4  [Event \"CHESS BOARD CLASH - Round 1\"]\\n[Site \"...  "
      ]
     },
     "execution_count": 4,
     "metadata": {},
     "output_type": "execute_result"
    }
   ],
   "source": [
    "games.head()"
   ]
  },
  {
   "cell_type": "markdown",
   "metadata": {},
   "source": [
    "The nature of the content in most columns is pretty clear:\n",
    "- white_username and black_username: players usernames\n",
    "- white_id and black_id: players unique IDs\n",
    "- white_rating and black_rating: players ELO scores\n",
    "- white_result and black_result: contain information regarding the game result\n",
    "- time_class and time_control: game time format\n",
    "- rated: whether a game is rated or not\n",
    "- FEN: FEN notation of the game (indicates the last position of the game)\n",
    "\n",
    "Two columns require further exploration:\n",
    "- rules: Each row in the sample data contains \"chess\" for this column. What does \"chess\" mean in this context?\n",
    "- PGN: Why doesn't the sample data show PGN notations?"
   ]
  },
  {
   "cell_type": "markdown",
   "metadata": {},
   "source": [
    "### Data format of the rules column"
   ]
  },
  {
   "cell_type": "code",
   "execution_count": 5,
   "metadata": {},
   "outputs": [
    {
     "name": "stdout",
     "output_type": "stream",
     "text": [
      "['chess' 'chess960' 'threecheck' 'crazyhouse' 'kingofthehill']\n"
     ]
    }
   ],
   "source": [
    "# Possible values for the rules column\n",
    "print(games[\"rules\"].unique())"
   ]
  },
  {
   "cell_type": "markdown",
   "metadata": {},
   "source": [
    "The rules column indicates whether the game followed traditional chess rules or chess variants"
   ]
  },
  {
   "cell_type": "markdown",
   "metadata": {},
   "source": [
    "### Data format of the PGN column"
   ]
  },
  {
   "cell_type": "code",
   "execution_count": 6,
   "metadata": {},
   "outputs": [
    {
     "name": "stdout",
     "output_type": "stream",
     "text": [
      "[Event \"Enjoyable games 2 - Round 1\"]\n",
      "[Site \"Chess.com\"]\n",
      "[Date \"2013.01.30\"]\n",
      "[Round \"-\"]\n",
      "[White \"-Amos-\"]\n",
      "[Black \"miniman2804\"]\n",
      "[Result \"1-0\"]\n",
      "[Tournament \"https://www.chess.com/tournament/enjoyable-games-2\"]\n",
      "[CurrentPosition \"r2r4/p2p1p1p/b6R/n1p1kp2/2P2P2/3BP3/PP5P/4K2R b K f3 1 22\"]\n",
      "[Timezone \"UTC\"]\n",
      "[ECO \"E22\"]\n",
      "[ECOUrl \"https://www.chess.com/openings/Nimzo-Indian-Defense-Spielmann-Variation\"]\n",
      "[UTCDate \"2013.01.30\"]\n",
      "[UTCTime \"16:35:14\"]\n",
      "[WhiteElo \"1708\"]\n",
      "[BlackElo \"1608\"]\n",
      "[TimeControl \"1/259200\"]\n",
      "[Termination \"-Amos- won by checkmate\"]\n",
      "[StartTime \"16:35:14\"]\n",
      "[EndDate \"2013.02.01\"]\n",
      "[EndTime \"18:14:48\"]\n",
      "[Link \"https://www.chess.com/game/daily/64629816\"]\n",
      "\n",
      "1. d4 Nf6 2. c4 e6 3. Nc3 Bb4 4. Qb3 Bxc3+ 5. Qxc3 O-O 6. Bg5 c5 7. dxc5 Nc6 8. Nf3 Qa5 9. Bxf6 gxf6 10. Qxa5 Nxa5 11. e3 Rd8 12. Rd1 Kg7 13. Be2 b6 14. Rd4 bxc5 15. Rg4+ Kh6 16. Bd3 f5 17. Rh4+ Kg6 18. g4 Ba6 19. gxf5+ exf5 20. Ne5+ Kf6 21. Rh6+ Kxe5 22. f4# 1-0\n",
      "\n"
     ]
    }
   ],
   "source": [
    "# Sample data in the PGN column\n",
    "print(games.loc[0, \"pgn\"])"
   ]
  },
  {
   "cell_type": "markdown",
   "metadata": {},
   "source": [
    "The PGN column contains nested data. During the data manipulation phase, we'll extract these data."
   ]
  },
  {
   "cell_type": "markdown",
   "metadata": {},
   "source": [
    "## Missing values"
   ]
  },
  {
   "cell_type": "markdown",
   "metadata": {},
   "source": [
    "### Number of NA values"
   ]
  },
  {
   "cell_type": "markdown",
   "metadata": {},
   "source": [
    "We can check the number of NA values per column by using `isna().sum()`.\n",
    "\n",
    "Then we can count the total number of NA values in the dataset by summing the NA values in each group."
   ]
  },
  {
   "cell_type": "code",
   "execution_count": 7,
   "metadata": {},
   "outputs": [
    {
     "name": "stdout",
     "output_type": "stream",
     "text": [
      "NA values:  0\n"
     ]
    }
   ],
   "source": [
    "print(\"NA values: \", games.isna().sum().sum())"
   ]
  },
  {
   "cell_type": "markdown",
   "metadata": {},
   "source": [
    "There are no NA values in the dataset."
   ]
  },
  {
   "cell_type": "markdown",
   "metadata": {},
   "source": [
    "### Number of empty strings"
   ]
  },
  {
   "cell_type": "markdown",
   "metadata": {},
   "source": [
    "To check for missing values expressed as empty strings, first we must manipulate the dataset by trimmming initial and ending spaces in string values.\n",
    "\n",
    "We can achieve this by the strip() function to each column that contains strings."
   ]
  },
  {
   "cell_type": "code",
   "execution_count": 8,
   "metadata": {},
   "outputs": [],
   "source": [
    "games = games.applymap(lambda colData: colData.strip() if isinstance(colData, str) else colData)"
   ]
  },
  {
   "cell_type": "markdown",
   "metadata": {},
   "source": [
    "We can then transform empty strings into NA values."
   ]
  },
  {
   "cell_type": "code",
   "execution_count": 9,
   "metadata": {},
   "outputs": [],
   "source": [
    "games = games.replace(\"\", pd.NA)"
   ]
  },
  {
   "cell_type": "markdown",
   "metadata": {},
   "source": [
    "Now we check again for NA values."
   ]
  },
  {
   "cell_type": "code",
   "execution_count": 10,
   "metadata": {},
   "outputs": [
    {
     "name": "stdout",
     "output_type": "stream",
     "text": [
      "Empty strings:  0\n"
     ]
    }
   ],
   "source": [
    "print(\"Empty strings: \", games.isna().sum().sum())"
   ]
  },
  {
   "cell_type": "markdown",
   "metadata": {},
   "source": [
    "There are no empty strings in the dataset."
   ]
  },
  {
   "cell_type": "markdown",
   "metadata": {},
   "source": [
    "## Initial manipulation\n",
    "\n",
    "After an initial exploration of the data structure, I've set an initial list of manipulations I want to perform on the raw data to prepare for the analysis:\n",
    "- Determine if we can drop the player id columns\n",
    "- Move the game win/draw condition to a single column (it's currently split between the columns white_result and black_result)\n",
    "- Extract piece advantage and point advantage at end of game from the FEN column\n",
    "- Extract date, number of turns, PGN notation from the PGN column"
   ]
  },
  {
   "cell_type": "markdown",
   "metadata": {},
   "source": [
    "### Players manipulation"
   ]
  },
  {
   "cell_type": "markdown",
   "metadata": {},
   "source": [
    "#### Checking username uniqueness\n",
    "\n",
    "We want to determine whether we can remove the winner_id and loser_id columns.\n",
    "\n",
    "In order to do so, we must check whether there are players with different IDs that have the same username."
   ]
  },
  {
   "cell_type": "code",
   "execution_count": 11,
   "metadata": {},
   "outputs": [
    {
     "name": "stdout",
     "output_type": "stream",
     "text": [
      "Duplicated usernames:  0\n"
     ]
    }
   ],
   "source": [
    "# Extracts username-id pairs for white and black players\n",
    "whitePlayers = games[[\"white_username\", \"white_id\"]].rename(columns={\"white_username\": \"username\", \"white_id\": \"id\"})\n",
    "blackPlayers = games[[\"black_username\", \"black_id\"]].rename(columns={\"black_username\": \"username\", \"black_id\": \"id\"})\n",
    "\n",
    "# Gathers the username-id data of every game in a common dataframe\n",
    "players = pd.concat([whitePlayers, blackPlayers])\n",
    "\n",
    "# Gathers the unique username-id pairs for each player\n",
    "players = players.drop_duplicates()\n",
    "\n",
    "# Prints the number of duplicated usernames\n",
    "numOfPlayerByUsername = players[\"username\"].value_counts()\n",
    "print(\"Duplicated usernames: \", numOfPlayerByUsername[numOfPlayerByUsername > 1].size)"
   ]
  },
  {
   "cell_type": "markdown",
   "metadata": {},
   "source": [
    "#### Removing redundant data\n",
    "\n",
    "After having determined that usernames are valid unique identifiers, we can drop the winner_id and loser_id columns."
   ]
  },
  {
   "cell_type": "code",
   "execution_count": 12,
   "metadata": {},
   "outputs": [
    {
     "name": "stdout",
     "output_type": "stream",
     "text": [
      "['white_username', 'black_username', 'white_rating', 'black_rating', 'white_result', 'black_result', 'time_class', 'time_control', 'rules', 'rated', 'fen', 'pgn']\n"
     ]
    }
   ],
   "source": [
    "games.drop(columns=[\"white_id\", \"black_id\"], inplace=True)\n",
    "print(list(games.columns))"
   ]
  },
  {
   "cell_type": "markdown",
   "metadata": {},
   "source": [
    "### Game results manipulation\n",
    "\n",
    "Currently, the win/draw conditions are divided between two columns (white_result and black_result).\n",
    "\n",
    "For drawn games, both columns contain the same information, that explains the type of draw (i.e. stalemate, timeout vs insufficient material, etc).\n",
    "For games with a winner, the data contains the word \"win\" on the column related to the player who won, and the type of defeat on the column related to the other player.\n",
    "\n",
    "This structure is unfit for exploring the different types of win/draw conditions. We'll proceed to split these information in two columns:\n",
    "- winner (which can be: white, black, neither)\n",
    "- result type (the win/draw cause; i.e. checkmate, timeout)"
   ]
  },
  {
   "cell_type": "markdown",
   "metadata": {},
   "source": [
    "#### Extracting winning player"
   ]
  },
  {
   "cell_type": "code",
   "execution_count": 14,
   "metadata": {},
   "outputs": [
    {
     "name": "stdout",
     "output_type": "stream",
     "text": [
      "Sample mapping of the winner column:\n",
      "  white_result black_result winner\n",
      "0          win   checkmated  white\n",
      "1          win     resigned  white\n",
      "2          win     resigned  white\n",
      "3   checkmated          win  black\n",
      "4          win     resigned  white\n"
     ]
    }
   ],
   "source": [
    "# Defined constants to avoid using hardwired strings in code\n",
    "winnerInCaseOfDraw = \"neither\"\n",
    "winResult = \"win\"\n",
    "whitePlayer = \"white\"\n",
    "blackPlayer = \"black\"\n",
    "\n",
    "# Sets a unique column with the information on who won\n",
    "games[\"winner\"] = winnerInCaseOfDraw\n",
    "games.loc[games[\"white_result\"] == winResult, \"winner\"] = whitePlayer\n",
    "games.loc[games[\"black_result\"] == winResult, \"winner\"] = blackPlayer\n",
    "\n",
    "print(\"Sample mapping of the winner column:\")\n",
    "print(games[[\"white_result\", \"black_result\", \"winner\"]].head())"
   ]
  },
  {
   "cell_type": "markdown",
   "metadata": {},
   "source": [
    "#### Extracting game result type"
   ]
  },
  {
   "cell_type": "code",
   "execution_count": 15,
   "metadata": {},
   "outputs": [
    {
     "name": "stdout",
     "output_type": "stream",
     "text": [
      "Sample mapping of the new columns:\n",
      "  white_result black_result winner result_type\n",
      "0          win   checkmated  white  checkmated\n",
      "1          win     resigned  white    resigned\n",
      "2          win     resigned  white    resigned\n",
      "3   checkmated          win  black  checkmated\n",
      "4          win     resigned  white    resigned\n"
     ]
    }
   ],
   "source": [
    "# Defines how to read the result type from each game\n",
    "def getResultType(game):\n",
    "    return game[\"black_result\"] if game[\"winner\"] == whitePlayer else game[\"white_result\"]\n",
    "\n",
    "# Sets the result type in a new column\n",
    "games[\"result_type\"] = games.apply(lambda game: getResultType(game), axis=1)\n",
    "\n",
    "print(\"Sample mapping of the new columns:\")\n",
    "print(games[[\"white_result\", \"black_result\", \"winner\", \"result_type\"]].head())"
   ]
  },
  {
   "cell_type": "markdown",
   "metadata": {},
   "source": [
    "#### Dropping old columns"
   ]
  },
  {
   "cell_type": "code",
   "execution_count": 16,
   "metadata": {},
   "outputs": [
    {
     "name": "stdout",
     "output_type": "stream",
     "text": [
      "Columns:  ['white_username', 'black_username', 'white_rating', 'black_rating', 'time_class', 'time_control', 'rules', 'rated', 'fen', 'pgn', 'winner', 'result_type']\n"
     ]
    }
   ],
   "source": [
    "games.drop(columns=[\"white_result\", \"black_result\"], inplace=True)\n",
    "print(\"Columns: \", list(games.columns))"
   ]
  },
  {
   "cell_type": "markdown",
   "metadata": {},
   "source": [
    "### FEN data manipulation\n",
    "\n",
    "#### Hints about FEN notation\n",
    "\n",
    "A FEN string contains a series of information regarding a particular state of the board:\n",
    "- which pieces are present in each row of the board\n",
    "    - each row is separated by a slash\n",
    "    - each row is represented as a series of letters and numbers (a letter is a piece, a number is a set of empty spaces)\n",
    "    - K is King, Q is Queen, R is rook, N is knight, B is bishop, P is pawn\n",
    "    - white pieces are in uppercase, black pieces are in lowercase\n",
    "- which player has to move\n",
    "- castling options\n",
    "- en passant options\n",
    "- number of turns\n",
    "\n",
    "The main interest of the analysis regarding this data is in the piece and points advantage, which we'll extract first. A possible future development is extracting and analyzing information like castling and en passant options for each game.\n",
    "\n",
    "#### Hints about piece and points advantage\n",
    "\n",
    "Each player start with 16 pieces. Each piece has a different score, which is used to evaluate which player has an advantage in material:\n",
    "- king: no score (since it can't be captured, it can only be checkmated)\n",
    "- queen: 9 points\n",
    "- rook: 5 points\n",
    "- bishop: 3 points\n",
    "- knight: 3 points\n",
    "- pawn: 1 point\n",
    "\n",
    "Sometimes two players have the same score in terms of remaining pieces, but one of them has a higher number of pieces (pieces with a minor score). This can mean occupying more phisical squares on the board, which, according to chess litetature, can be an important factor during the endgame (the ending phase of the game).\n",
    "\n",
    "Part of the analysis goals is understanding how differences in terms of available pieces and point advantage reflect on winrates."
   ]
  },
  {
   "cell_type": "markdown",
   "metadata": {},
   "source": [
    "#### Extracting board setup from FEN notation\n",
    "\n",
    "First, we'll extract the information about the board setup from the FEN, to allow us to count the different pieces without considering the additional information in a FEN string.\n",
    "\n",
    "Each group of information in a valid FEN string is separated by a space. The board setup counts as a single piece of information, and it's written as a series of 8 strings separated by slashes. \n",
    "\n",
    "We could simply extract the substring up to the first space, but this method would be prone to errors, in case of invalid FEN strings. By using a regular expression to check for substrings with a valid format, we can ensure that the data is valid."
   ]
  },
  {
   "cell_type": "code",
   "execution_count": 17,
   "metadata": {},
   "outputs": [
    {
     "name": "stdout",
     "output_type": "stream",
     "text": [
      "Number of games with invalid board information:  0\n",
      "Sample board setups:\n",
      "0        r2r4/p2p1p1p/b6R/n1p1kp2/2P2P2/3BP3/PP5P/4K2R\n",
      "1                    8/5Q1k/4n1pp/8/7P/2N2b2/PP3P2/5K2\n",
      "2    rn1q1b1r/kb2p1pp/2p5/p1Q5/N1BP2n1/4PN2/1P3PPP/...\n",
      "Name: fen_board_setup, dtype: object\n"
     ]
    }
   ],
   "source": [
    "# A single row can contain 1 to 8 values, letters or number\n",
    "# A letter indicates a pieces\n",
    "# A number indicates the empty spaces to the right (so, minimum 1 space to be specified, max 8 spaces being the 8 cells of a chessboard row) \n",
    "validCharsForOneRow = \"[rnbqkpRNBQKP1-8]{1,8}\"\n",
    "\n",
    "# There are 8 rows. Each row (except the last one) has a slash to the right\n",
    "# We're looking for data at the start of the string, so we use the ^ symbol\n",
    "boardRegex = \"^((\" + validCharsForOneRow + \"/){7}\" + validCharsForOneRow + \")\"\n",
    "\n",
    "# There are 2 capture groups (parts nested in parenthesis): First is the whole row. Then the first 7 rows (needed to repeat the check 7 times).\n",
    "# We need the first capture groups, that represents the whole board\n",
    "games[\"fen_board_setup\"] = games[\"fen\"].str.extract(boardRegex)[0]\n",
    "\n",
    "print(\"Number of games with invalid board information: \", games[\"fen_board_setup\"].isna().sum())\n",
    "print(\"Sample board setups:\")\n",
    "print(games[\"fen_board_setup\"].head(3))"
   ]
  },
  {
   "cell_type": "markdown",
   "metadata": {},
   "source": [
    "#### Number of pieces\n",
    "\n",
    "After having extracted the board setup, we can count how many pieces each player has remaining at the end of the game."
   ]
  },
  {
   "cell_type": "code",
   "execution_count": 18,
   "metadata": {},
   "outputs": [
    {
     "name": "stdout",
     "output_type": "stream",
     "text": [
      "Sample comparison between FEN board and number of pieces:\n",
      "r2r4/p2p1p1p/b6R/n1p1kp2/2P2P2/3BP3/PP5P/4K2R\n",
      "White pieces:  10\n",
      "White knights:  0\n",
      "Black pieces:  11\n",
      "Black knights:  1\n"
     ]
    }
   ],
   "source": [
    "# Counts white pieces\n",
    "games[\"white_pieces_kings\"] = games[\"fen_board_setup\"].str.count(\"K\")\n",
    "games[\"white_pieces_queens\"] = games[\"fen_board_setup\"].str.count(\"Q\")\n",
    "games[\"white_pieces_rooks\"] = games[\"fen_board_setup\"].str.count(\"R\")\n",
    "games[\"white_pieces_knights\"] = games[\"fen_board_setup\"].str.count(\"N\")\n",
    "games[\"white_pieces_bishops\"] = games[\"fen_board_setup\"].str.count(\"B\")\n",
    "games[\"white_pieces_pawns\"] = games[\"fen_board_setup\"].str.count(\"P\")\n",
    "\n",
    "# Counts black pieces\n",
    "games[\"black_pieces_kings\"] = games[\"fen_board_setup\"].str.count(\"k\")\n",
    "games[\"black_pieces_queens\"] = games[\"fen_board_setup\"].str.count(\"q\")\n",
    "games[\"black_pieces_rooks\"] = games[\"fen_board_setup\"].str.count(\"r\")\n",
    "games[\"black_pieces_knights\"] = games[\"fen_board_setup\"].str.count(\"n\")\n",
    "games[\"black_pieces_bishops\"] = games[\"fen_board_setup\"].str.count(\"b\")\n",
    "games[\"black_pieces_pawns\"] = games[\"fen_board_setup\"].str.count(\"p\")\n",
    "\n",
    "# Counts totals\n",
    "games[\"white_pieces\"] = games.loc[:, \"white_pieces_kings\":\"white_pieces_pawns\"].sum(axis=1)\n",
    "games[\"black_pieces\"] = games.loc[:, \"black_pieces_kings\":\"black_pieces_pawns\"].sum(axis=1)\n",
    "\n",
    "# Sample data\n",
    "sampleGame = games.iloc[0, :]\n",
    "print(\"Sample comparison between FEN board and number of pieces:\")\n",
    "print(sampleGame[\"fen_board_setup\"])\n",
    "print(\"White pieces: \", sampleGame[\"white_pieces\"])\n",
    "print(\"White knights: \", sampleGame[\"white_pieces_knights\"])\n",
    "print(\"Black pieces: \", sampleGame[\"black_pieces\"])\n",
    "print(\"Black knights: \", sampleGame[\"black_pieces_knights\"])"
   ]
  },
  {
   "cell_type": "markdown",
   "metadata": {},
   "source": [
    "#### Piece advantage\n",
    "\n",
    "Now we'll calculate the difference in number of pieces between the winner and the loser. \n",
    "If the number is negative, it means that the winner has less pieces remaining than the loser."
   ]
  },
  {
   "cell_type": "code",
   "execution_count": 19,
   "metadata": {},
   "outputs": [
    {
     "name": "stdout",
     "output_type": "stream",
     "text": [
      "Sample piece advantage data:\n",
      "  winner  white_pieces  black_pieces  piece_advantage\n",
      "0  white            10            11               -1\n",
      "1  white             7             5                2\n",
      "2  white            14            13                1\n"
     ]
    }
   ],
   "source": [
    "# Can be used to calculate points or pieces advantage by passing the desired column name\n",
    "def getAdvantage(game, columnName):\n",
    "    return (game[\"white_\" + columnName] - game[\"black_\" + columnName]) \\\n",
    "        * (1 if game[\"winner\"] == whitePlayer else -1) # If White has won, we calculate normally; otherwise, we flip the result\n",
    "\n",
    "games[\"piece_advantage\"] = games.apply(lambda game: getAdvantage(game, \"pieces\"), axis=1)\n",
    "\n",
    "# Sample data\n",
    "print(\"Sample piece advantage data:\")\n",
    "print(games[[\"winner\", \"white_pieces\", \"black_pieces\", \"piece_advantage\"]].head(3))"
   ]
  },
  {
   "cell_type": "markdown",
   "metadata": {},
   "source": [
    "#### Points advantage\n",
    "\n",
    "Now we'll calculate the difference in pieces points between the winner and the loser.\n",
    "If the number is negative, it means that the winner has pieces with less total points remaining than the loser."
   ]
  },
  {
   "cell_type": "code",
   "execution_count": 20,
   "metadata": {},
   "outputs": [
    {
     "name": "stdout",
     "output_type": "stream",
     "text": [
      "Sample point advantage calculation: \n",
      "White points:  19\n",
      "White queens (9pt each):  0\n",
      "White rooks (5pt each):  2\n",
      "White knights (3pt each):  0\n",
      "White bishops (3pt each):  1\n",
      "White pawns (1pt each):  6\n",
      "\n",
      "Sample points advantage data:\n",
      "  winner  white_points  black_points  points_advantage\n",
      "0  white            19            22                -3\n",
      "1  white            16             8                 8\n",
      "2  white            37            36                 1\n"
     ]
    }
   ],
   "source": [
    "def getPoints(game, player):\n",
    "    return game[player + \"_pieces_queens\"] * 9 + game[player + \"_pieces_rooks\"] * 5 + \\\n",
    "    game[player + \"_pieces_knights\"] * 3 + game[player + \"_pieces_bishops\"] * 3 + game[player + \"_pieces_pawns\"] * 1\n",
    "\n",
    "games[\"white_points\"] = games.apply(lambda game: getPoints(game, whitePlayer), axis=1)\n",
    "games[\"black_points\"] = games.apply(lambda game: getPoints(game, blackPlayer), axis=1)\n",
    "games[\"points_advantage\"] = games.apply(lambda game: getAdvantage(game, \"points\"), axis=1)\n",
    "\n",
    "# Sample data\n",
    "sampleGame = games.iloc[0, :]\n",
    "print (\"Sample point calculation: \")\n",
    "print(\"White points: \", sampleGame[\"white_points\"])\n",
    "print(\"White queens (9pt each): \", sampleGame[\"white_pieces_queens\"])\n",
    "print(\"White rooks (5pt each): \", sampleGame[\"white_pieces_rooks\"])\n",
    "print(\"White knights (3pt each): \", sampleGame[\"white_pieces_knights\"])\n",
    "print(\"White bishops (3pt each): \", sampleGame[\"white_pieces_bishops\"])\n",
    "print(\"White pawns (1pt each): \", sampleGame[\"white_pieces_pawns\"])\n",
    "\n",
    "print(\"\\nSample points advantage data:\")\n",
    "print(games[[\"winner\", \"white_points\", \"black_points\", \"points_advantage\"]].head(3))"
   ]
  },
  {
   "cell_type": "markdown",
   "metadata": {},
   "source": [
    "### PGN column manipulation\n",
    "\n",
    "As seen in the initial data exploration, the PGN column contains nested data."
   ]
  },
  {
   "cell_type": "code",
   "execution_count": 21,
   "metadata": {},
   "outputs": [
    {
     "name": "stdout",
     "output_type": "stream",
     "text": [
      "[Event \"Enjoyable games 2 - Round 1\"]\n",
      "[Site \"Chess.com\"]\n",
      "[Date \"2013.01.30\"]\n",
      "[Round \"-\"]\n",
      "[White \"-Amos-\"]\n",
      "[Black \"miniman2804\"]\n",
      "[Result \"1-0\"]\n",
      "[Tournament \"https://www.chess.com/tournament/enjoyable-games-2\"]\n",
      "[CurrentPosition \"r2r4/p2p1p1p/b6R/n1p1kp2/2P2P2/3BP3/PP5P/4K2R b K f3 1 22\"]\n",
      "[Timezone \"UTC\"]\n",
      "[ECO \"E22\"]\n",
      "[ECOUrl \"https://www.chess.com/openings/Nimzo-Indian-Defense-Spielmann-Variation\"]\n",
      "[UTCDate \"2013.01.30\"]\n",
      "[UTCTime \"16:35:14\"]\n",
      "[WhiteElo \"1708\"]\n",
      "[BlackElo \"1608\"]\n",
      "[TimeControl \"1/259200\"]\n",
      "[Termination \"-Amos- won by checkmate\"]\n",
      "[StartTime \"16:35:14\"]\n",
      "[EndDate \"2013.02.01\"]\n",
      "[EndTime \"18:14:48\"]\n",
      "[Link \"https://www.chess.com/game/daily/64629816\"]\n",
      "\n",
      "1. d4 Nf6 2. c4 e6 3. Nc3 Bb4 4. Qb3 Bxc3+ 5. Qxc3 O-O 6. Bg5 c5 7. dxc5 Nc6 8. Nf3 Qa5 9. Bxf6 gxf6 10. Qxa5 Nxa5 11. e3 Rd8 12. Rd1 Kg7 13. Be2 b6 14. Rd4 bxc5 15. Rg4+ Kh6 16. Bd3 f5 17. Rh4+ Kg6 18. g4 Ba6 19. gxf5+ exf5 20. Ne5+ Kf6 21. Rh6+ Kxe5 22. f4# 1-0\n"
     ]
    }
   ],
   "source": [
    "print(games.loc[0, \"pgn\"])"
   ]
  },
  {
   "cell_type": "markdown",
   "metadata": {},
   "source": [
    "Some of the data in it (i.e. white/black ELO, termination cause, etc.) are redundant with other columns in the dataset. Other pieces of data are less interesting from an analysis standpoint (i.e. timezone, url link to game information).\n",
    "\n",
    "The two pieces of data we're interested in extracting are:\n",
    "- game date (to perform analysis on dates)\n",
    "- game PGN (to perform analysis on moves)\n",
    "\n",
    "First thing we'll do is renaming the PGN column into a less ambiguous name (so that we can then use the `pgn` name for the column that will contain only pgn data).\n",
    "We won't remove the current PGN column since we may be interested in extracting additional data from it, depending on the result of the analysis."
   ]
  },
  {
   "cell_type": "code",
   "execution_count": 22,
   "metadata": {},
   "outputs": [],
   "source": [
    "games.rename(columns={\"pgn\": \"game_information\"}, inplace=True)"
   ]
  },
  {
   "cell_type": "markdown",
   "metadata": {},
   "source": [
    "#### Extracting game date from PGN column\n",
    "\n",
    "We'll use a regular expression to extract the game date from the game_information column, looking for the values contained within the [Date] tag."
   ]
  },
  {
   "cell_type": "code",
   "execution_count": 23,
   "metadata": {},
   "outputs": [
    {
     "name": "stdout",
     "output_type": "stream",
     "text": [
      "Number of games with invalid date information:  0\n",
      "Sample dates:\n",
      "0    2013.01.30\n",
      "1    2013.01.19\n",
      "2    2013.02.01\n",
      "Name: game_date, dtype: object\n"
     ]
    }
   ],
   "source": [
    "# A date in the game_information column is composed as year.month.day\n",
    "dateStringRegex = \"[0-9]{4}\\.[0-9]{2}\\.[0-9]{2}\"\n",
    "# The date is contained in a tag in the structure [Date \"my_date\"]\n",
    "# We only want the my_date part, so we put it in a capture group (in parenthesis)\n",
    "dateFieldRegex = \"\\[Date \\\"(\" + dateStringRegex + \")\\\"\\]\"\n",
    "\n",
    "games[\"game_date\"] = games[\"game_information\"].str.extract(dateFieldRegex)[0]\n",
    "\n",
    "# Sample data\n",
    "print(\"Number of games with invalid date information: \", games[\"game_date\"].isna().sum())\n",
    "print(\"Sample dates:\")\n",
    "print(games[\"game_date\"].head(3))"
   ]
  },
  {
   "cell_type": "markdown",
   "metadata": {},
   "source": [
    "#### Extracting PGN moves data\n",
    "\n",
    "A valid PGN string is composed as a series of numbers (representing turns), with white and black moves for each turn.\n",
    "\n",
    "Example: `1. d4 Nf6 2. c4 e6 3. Nc3 Bb4 [...]`"
   ]
  }
 ],
 "metadata": {
  "interpreter": {
   "hash": "f6267a05d490a4e1a15393ad928f3beda4fd721621a940b59c5e6dbb70f45db7"
  },
  "kernelspec": {
   "display_name": "Python 3.8.11 64-bit ('python_env_win_course_2': conda)",
   "name": "python3"
  },
  "language_info": {
   "codemirror_mode": {
    "name": "ipython",
    "version": 3
   },
   "file_extension": ".py",
   "mimetype": "text/x-python",
   "name": "python",
   "nbconvert_exporter": "python",
   "pygments_lexer": "ipython3",
   "version": "3.8.11"
  },
  "orig_nbformat": 4
 },
 "nbformat": 4,
 "nbformat_minor": 2
}
